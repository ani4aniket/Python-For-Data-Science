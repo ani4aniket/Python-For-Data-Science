{
  "nbformat": 4,
  "nbformat_minor": 0,
  "metadata": {
    "colab": {
      "name": "Data_preprocessing.ipynb",
      "provenance": [],
      "collapsed_sections": []
    },
    "kernelspec": {
      "name": "python3",
      "display_name": "Python 3"
    }
  },
  "cells": [
    {
      "cell_type": "code",
      "metadata": {
        "id": "GmTJ92qMGpLV",
        "colab_type": "code",
        "colab": {}
      },
      "source": [
        "import pandas as pd"
      ],
      "execution_count": 0,
      "outputs": []
    },
    {
      "cell_type": "code",
      "metadata": {
        "id": "p1xJRpTtG448",
        "colab_type": "code",
        "colab": {}
      },
      "source": [
        "s1 = pd.Series([2, 3, 5.7, 2])"
      ],
      "execution_count": 0,
      "outputs": []
    },
    {
      "cell_type": "code",
      "metadata": {
        "id": "V599NtZQHEKw",
        "colab_type": "code",
        "outputId": "28458378-f1ce-4ff6-e753-d5af3c8fad9f",
        "colab": {
          "base_uri": "https://localhost:8080/",
          "height": 102
        }
      },
      "source": [
        "s1"
      ],
      "execution_count": 0,
      "outputs": [
        {
          "output_type": "execute_result",
          "data": {
            "text/plain": [
              "0    2.0\n",
              "1    3.0\n",
              "2    5.7\n",
              "3    2.0\n",
              "dtype: float64"
            ]
          },
          "metadata": {
            "tags": []
          },
          "execution_count": 29
        }
      ]
    },
    {
      "cell_type": "code",
      "metadata": {
        "id": "bB3hwNZBHFVO",
        "colab_type": "code",
        "colab": {}
      },
      "source": [
        "mydata = [1, 2, 3, 4]"
      ],
      "execution_count": 0,
      "outputs": []
    },
    {
      "cell_type": "code",
      "metadata": {
        "id": "tPCH-vI1J-s4",
        "colab_type": "code",
        "colab": {}
      },
      "source": [
        "labels = ['a', 'b', 'c', 'd']"
      ],
      "execution_count": 0,
      "outputs": []
    },
    {
      "cell_type": "code",
      "metadata": {
        "id": "A8E25TyZKGWn",
        "colab_type": "code",
        "outputId": "6c04469d-0d7b-4af4-f6f1-37acc415561e",
        "colab": {
          "base_uri": "https://localhost:8080/",
          "height": 102
        }
      },
      "source": [
        "pd.Series(mydata, labels)"
      ],
      "execution_count": 0,
      "outputs": [
        {
          "output_type": "execute_result",
          "data": {
            "text/plain": [
              "a    1\n",
              "b    2\n",
              "c    3\n",
              "d    4\n",
              "dtype: int64"
            ]
          },
          "metadata": {
            "tags": []
          },
          "execution_count": 9
        }
      ]
    },
    {
      "cell_type": "code",
      "metadata": {
        "id": "Om7kMTRBKROc",
        "colab_type": "code",
        "outputId": "48a83927-a90d-45f4-8cb4-2744f7610186",
        "colab": {
          "resources": {
            "http://localhost:8080/nbextensions/google.colab/files.js": {
              "data": "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",
              "ok": true,
              "headers": [
                [
                  "content-type",
                  "application/javascript"
                ]
              ],
              "status": 200,
              "status_text": ""
            }
          },
          "base_uri": "https://localhost:8080/",
          "height": 71
        }
      },
      "source": [
        "from google.colab import files\n",
        "uploaded = files.upload()"
      ],
      "execution_count": 0,
      "outputs": [
        {
          "output_type": "display_data",
          "data": {
            "text/html": [
              "\n",
              "     <input type=\"file\" id=\"files-a6761c74-e30e-4309-970f-271ab323e2eb\" name=\"files[]\" multiple disabled />\n",
              "     <output id=\"result-a6761c74-e30e-4309-970f-271ab323e2eb\">\n",
              "      Upload widget is only available when the cell has been executed in the\n",
              "      current browser session. Please rerun this cell to enable.\n",
              "      </output>\n",
              "      <script src=\"/nbextensions/google.colab/files.js\"></script> "
            ],
            "text/plain": [
              "<IPython.core.display.HTML object>"
            ]
          },
          "metadata": {
            "tags": []
          }
        },
        {
          "output_type": "stream",
          "text": [
            "Saving loan_pred.csv to loan_pred.csv\n"
          ],
          "name": "stdout"
        }
      ]
    },
    {
      "cell_type": "code",
      "metadata": {
        "id": "VnLlCnsuQvJZ",
        "colab_type": "code",
        "outputId": "30018443-9083-492a-eee9-e476354917c6",
        "colab": {
          "base_uri": "https://localhost:8080/",
          "height": 54
        }
      },
      "source": [
        "uploaded"
      ],
      "execution_count": 0,
      "outputs": [
        {
          "output_type": "execute_result",
          "data": {
            "text/plain": [
              "{'loan_pred.csv': b'Loan_ID,Gender,Married,Dependents,Education,Self_Employed,ApplicantIncome,CoapplicantIncome,LoanAmount,Loan_Amount_Term,Credit_History,Property_Area,Loan_Status\\r\\nLP001002,Male,No,0,Graduate,No,5849,0,,360,1,Urban,Y\\r\\nLP001003,Male,Yes,1,Graduate,No,4583,1508,128,360,1,Rural,N\\r\\nLP001005,Male,Yes,0,Graduate,Yes,3000,0,66,360,1,Urban,Y\\r\\nLP001006,Male,Yes,0,Not Graduate,No,2583,2358,120,360,1,Urban,Y\\r\\nLP001008,Male,No,0,Graduate,No,6000,0,141,360,1,Urban,Y\\r\\nLP001011,Male,Yes,2,Graduate,Yes,5417,4196,267,360,1,Urban,Y\\r\\nLP001013,Male,Yes,0,Not Graduate,No,2333,1516,95,360,1,Urban,Y\\r\\nLP001014,Male,Yes,3+,Graduate,No,3036,2504,158,360,0,Semiurban,N\\r\\nLP001018,Male,Yes,2,Graduate,No,4006,1526,168,360,1,Urban,Y\\r\\nLP001020,Male,Yes,1,Graduate,No,12841,10968,349,360,1,Semiurban,N\\r\\nLP001024,Male,Yes,2,Graduate,No,3200,700,70,360,1,Urban,Y\\r\\nLP001027,Male,Yes,2,Graduate,,2500,1840,109,360,1,Urban,Y\\r\\nLP001028,Male,Yes,2,Graduate,No,3073,8106,200,360,1,Urban,Y\\r\\nLP001029,Male,No,0,Graduate,No,1853,2840,114,360,1,Rural,N\\r\\nLP001030,Male,Yes,2,Graduate,No,1299,1086,17,120,1,Urban,Y\\r\\nLP001032,Male,No,0,Graduate,No,4950,0,125,360,1,Urban,Y\\r\\nLP001034,Male,No,1,Not Graduate,No,3596,0,100,240,,Urban,Y\\r\\nLP001036,Female,No,0,Graduate,No,3510,0,76,360,0,Urban,N\\r\\nLP001038,Male,Yes,0,Not Graduate,No,4887,0,133,360,1,Rural,N\\r\\nLP001041,Male,Yes,0,Graduate,,2600,3500,115,,1,Urban,Y\\r\\nLP001043,Male,Yes,0,Not Graduate,No,7660,0,104,360,0,Urban,N\\r\\nLP001046,Male,Yes,1,Graduate,No,5955,5625,315,360,1,Urban,Y\\r\\nLP001047,Male,Yes,0,Not Graduate,No,2600,1911,116,360,0,Semiurban,N\\r\\nLP001050,,Yes,2,Not Graduate,No,3365,1917,112,360,0,Rural,N\\r\\nLP001052,Male,Yes,1,Graduate,,3717,2925,151,360,,Semiurban,N\\r\\nLP001066,Male,Yes,0,Graduate,Yes,9560,0,191,360,1,Semiurban,Y\\r\\nLP001068,Male,Yes,0,Graduate,No,2799,2253,122,360,1,Semiurban,Y\\r\\nLP001073,Male,Yes,2,Not Graduate,No,4226,1040,110,360,1,Urban,Y\\r\\nLP001086,Male,No,0,Not Graduate,No,1442,0,35,360,1,Urban,N\\r\\nLP001087,Female,No,2,Graduate,,3750,2083,120,360,1,Semiurban,Y\\r\\nLP001091,Male,Yes,1,Graduate,,4166,3369,201,360,,Urban,N\\r\\nLP001095,Male,No,0,Graduate,No,3167,0,74,360,1,Urban,N\\r\\nLP001097,Male,No,1,Graduate,Yes,4692,0,106,360,1,Rural,N\\r\\nLP001098,Male,Yes,0,Graduate,No,3500,1667,114,360,1,Semiurban,Y\\r\\nLP001100,Male,No,3+,Graduate,No,12500,3000,320,360,1,Rural,N\\r\\nLP001106,Male,Yes,0,Graduate,No,2275,2067,,360,1,Urban,Y\\r\\nLP001109,Male,Yes,0,Graduate,No,1828,1330,100,,0,Urban,N\\r\\nLP001112,Female,Yes,0,Graduate,No,3667,1459,144,360,1,Semiurban,Y\\r\\nLP001114,Male,No,0,Graduate,No,4166,7210,184,360,1,Urban,Y\\r\\nLP001116,Male,No,0,Not Graduate,No,3748,1668,110,360,1,Semiurban,Y\\r\\nLP001119,Male,No,0,Graduate,No,3600,0,80,360,1,Urban,N\\r\\nLP001120,Male,No,0,Graduate,No,1800,1213,47,360,1,Urban,Y\\r\\nLP001123,Male,Yes,0,Graduate,No,2400,0,75,360,,Urban,Y\\r\\nLP001131,Male,Yes,0,Graduate,No,3941,2336,134,360,1,Semiurban,Y\\r\\nLP001136,Male,Yes,0,Not Graduate,Yes,4695,0,96,,1,Urban,Y\\r\\nLP001137,Female,No,0,Graduate,No,3410,0,88,,1,Urban,Y\\r\\nLP001138,Male,Yes,1,Graduate,No,5649,0,44,360,1,Urban,Y\\r\\nLP001144,Male,Yes,0,Graduate,No,5821,0,144,360,1,Urban,Y\\r\\nLP001146,Female,Yes,0,Graduate,No,2645,3440,120,360,0,Urban,N\\r\\nLP001151,Female,No,0,Graduate,No,4000,2275,144,360,1,Semiurban,Y\\r\\nLP001155,Female,Yes,0,Not Graduate,No,1928,1644,100,360,1,Semiurban,Y\\r\\nLP001157,Female,No,0,Graduate,No,3086,0,120,360,1,Semiurban,Y\\r\\nLP001164,Female,No,0,Graduate,No,4230,0,112,360,1,Semiurban,N\\r\\nLP001179,Male,Yes,2,Graduate,No,4616,0,134,360,1,Urban,N\\r\\nLP001186,Female,Yes,1,Graduate,Yes,11500,0,286,360,0,Urban,N\\r\\nLP001194,Male,Yes,2,Graduate,No,2708,1167,97,360,1,Semiurban,Y\\r\\nLP001195,Male,Yes,0,Graduate,No,2132,1591,96,360,1,Semiurban,Y\\r\\nLP001197,Male,Yes,0,Graduate,No,3366,2200,135,360,1,Rural,N\\r\\nLP001198,Male,Yes,1,Graduate,No,8080,2250,180,360,1,Urban,Y\\r\\nLP001199,Male,Yes,2,Not Graduate,No,3357,2859,144,360,1,Urban,Y\\r\\nLP001205,Male,Yes,0,Graduate,No,2500,3796,120,360,1,Urban,Y\\r\\nLP001206,Male,Yes,3+,Graduate,No,3029,0,99,360,1,Urban,Y\\r\\nLP001207,Male,Yes,0,Not Graduate,Yes,2609,3449,165,180,0,Rural,N\\r\\nLP001213,Male,Yes,1,Graduate,No,4945,0,,360,0,Rural,N\\r\\nLP001222,Female,No,0,Graduate,No,4166,0,116,360,0,Semiurban,N\\r\\nLP001225,Male,Yes,0,Graduate,No,5726,4595,258,360,1,Semiurban,N\\r\\nLP001228,Male,No,0,Not Graduate,No,3200,2254,126,180,0,Urban,N\\r\\nLP001233,Male,Yes,1,Graduate,No,10750,0,312,360,1,Urban,Y\\r\\nLP001238,Male,Yes,3+,Not Graduate,Yes,7100,0,125,60,1,Urban,Y\\r\\nLP001241,Female,No,0,Graduate,No,4300,0,136,360,0,Semiurban,N\\r\\nLP001243,Male,Yes,0,Graduate,No,3208,3066,172,360,1,Urban,Y\\r\\nLP001245,Male,Yes,2,Not Graduate,Yes,1875,1875,97,360,1,Semiurban,Y\\r\\nLP001248,Male,No,0,Graduate,No,3500,0,81,300,1,Semiurban,Y\\r\\nLP001250,Male,Yes,3+,Not Graduate,No,4755,0,95,,0,Semiurban,N\\r\\nLP001253,Male,Yes,3+,Graduate,Yes,5266,1774,187,360,1,Semiurban,Y\\r\\nLP001255,Male,No,0,Graduate,No,3750,0,113,480,1,Urban,N\\r\\nLP001256,Male,No,0,Graduate,No,3750,4750,176,360,1,Urban,N\\r\\nLP001259,Male,Yes,1,Graduate,Yes,1000,3022,110,360,1,Urban,N\\r\\nLP001263,Male,Yes,3+,Graduate,No,3167,4000,180,300,0,Semiurban,N\\r\\nLP001264,Male,Yes,3+,Not Graduate,Yes,3333,2166,130,360,,Semiurban,Y\\r\\nLP001265,Female,No,0,Graduate,No,3846,0,111,360,1,Semiurban,Y\\r\\nLP001266,Male,Yes,1,Graduate,Yes,2395,0,,360,1,Semiurban,Y\\r\\nLP001267,Female,Yes,2,Graduate,No,1378,1881,167,360,1,Urban,N\\r\\nLP001273,Male,Yes,0,Graduate,No,6000,2250,265,360,,Semiurban,N\\r\\nLP001275,Male,Yes,1,Graduate,No,3988,0,50,240,1,Urban,Y\\r\\nLP001279,Male,No,0,Graduate,No,2366,2531,136,360,1,Semiurban,Y\\r\\nLP001280,Male,Yes,2,Not Graduate,No,3333,2000,99,360,,Semiurban,Y\\r\\nLP001282,Male,Yes,0,Graduate,No,2500,2118,104,360,1,Semiurban,Y\\r\\nLP001289,Male,No,0,Graduate,No,8566,0,210,360,1,Urban,Y\\r\\nLP001310,Male,Yes,0,Graduate,No,5695,4167,175,360,1,Semiurban,Y\\r\\nLP001316,Male,Yes,0,Graduate,No,2958,2900,131,360,1,Semiurban,Y\\r\\nLP001318,Male,Yes,2,Graduate,No,6250,5654,188,180,1,Semiurban,Y\\r\\nLP001319,Male,Yes,2,Not Graduate,No,3273,1820,81,360,1,Urban,Y\\r\\nLP001322,Male,No,0,Graduate,No,4133,0,122,360,1,Semiurban,Y\\r\\nLP001325,Male,No,0,Not Graduate,No,3620,0,25,120,1,Semiurban,Y\\r\\nLP001326,Male,No,0,Graduate,,6782,0,,360,,Urban,N\\r\\nLP001327,Female,Yes,0,Graduate,No,2484,2302,137,360,1,Semiurban,Y\\r\\nLP001333,Male,Yes,0,Graduate,No,1977,997,50,360,1,Semiurban,Y\\r\\nLP001334,Male,Yes,0,Not Graduate,No,4188,0,115,180,1,Semiurban,Y\\r\\nLP001343,Male,Yes,0,Graduate,No,1759,3541,131,360,1,Semiurban,Y\\r\\nLP001345,Male,Yes,2,Not Graduate,No,4288,3263,133,180,1,Urban,Y\\r\\nLP001349,Male,No,0,Graduate,No,4843,3806,151,360,1,Semiurban,Y\\r\\nLP001350,Male,Yes,,Graduate,No,13650,0,,360,1,Urban,Y\\r\\nLP001356,Male,Yes,0,Graduate,No,4652,3583,,360,1,Semiurban,Y\\r\\nLP001357,Male,,,Graduate,No,3816,754,160,360,1,Urban,Y\\r\\nLP001367,Male,Yes,1,Graduate,No,3052,1030,100,360,1,Urban,Y\\r\\nLP001369,Male,Yes,2,Graduate,No,11417,1126,225,360,1,Urban,Y\\r\\nLP001370,Male,No,0,Not Graduate,,7333,0,120,360,1,Rural,N\\r\\nLP001379,Male,Yes,2,Graduate,No,3800,3600,216,360,0,Urban,N\\r\\nLP001384,Male,Yes,3+,Not Graduate,No,2071,754,94,480,1,Semiurban,Y\\r\\nLP001385,Male,No,0,Graduate,No,5316,0,136,360,1,Urban,Y\\r\\nLP001387,Female,Yes,0,Graduate,,2929,2333,139,360,1,Semiurban,Y\\r\\nLP001391,Male,Yes,0,Not Graduate,No,3572,4114,152,,0,Rural,N\\r\\nLP001392,Female,No,1,Graduate,Yes,7451,0,,360,1,Semiurban,Y\\r\\nLP001398,Male,No,0,Graduate,,5050,0,118,360,1,Semiurban,Y\\r\\nLP001401,Male,Yes,1,Graduate,No,14583,0,185,180,1,Rural,Y\\r\\nLP001404,Female,Yes,0,Graduate,No,3167,2283,154,360,1,Semiurban,Y\\r\\nLP001405,Male,Yes,1,Graduate,No,2214,1398,85,360,,Urban,Y\\r\\nLP001421,Male,Yes,0,Graduate,No,5568,2142,175,360,1,Rural,N\\r\\nLP001422,Female,No,0,Graduate,No,10408,0,259,360,1,Urban,Y\\r\\nLP001426,Male,Yes,,Graduate,No,5667,2667,180,360,1,Rural,Y\\r\\nLP001430,Female,No,0,Graduate,No,4166,0,44,360,1,Semiurban,Y\\r\\nLP001431,Female,No,0,Graduate,No,2137,8980,137,360,0,Semiurban,Y\\r\\nLP001432,Male,Yes,2,Graduate,No,2957,0,81,360,1,Semiurban,Y\\r\\nLP001439,Male,Yes,0,Not Graduate,No,4300,2014,194,360,1,Rural,Y\\r\\nLP001443,Female,No,0,Graduate,No,3692,0,93,360,,Rural,Y\\r\\nLP001448,,Yes,3+,Graduate,No,23803,0,370,360,1,Rural,Y\\r\\nLP001449,Male,No,0,Graduate,No,3865,1640,,360,1,Rural,Y\\r\\nLP001451,Male,Yes,1,Graduate,Yes,10513,3850,160,180,0,Urban,N\\r\\nLP001465,Male,Yes,0,Graduate,No,6080,2569,182,360,,Rural,N\\r\\nLP001469,Male,No,0,Graduate,Yes,20166,0,650,480,,Urban,Y\\r\\nLP001473,Male,No,0,Graduate,No,2014,1929,74,360,1,Urban,Y\\r\\nLP001478,Male,No,0,Graduate,No,2718,0,70,360,1,Semiurban,Y\\r\\nLP001482,Male,Yes,0,Graduate,Yes,3459,0,25,120,1,Semiurban,Y\\r\\nLP001487,Male,No,0,Graduate,No,4895,0,102,360,1,Semiurban,Y\\r\\nLP001488,Male,Yes,3+,Graduate,No,4000,7750,290,360,1,Semiurban,N\\r\\nLP001489,Female,Yes,0,Graduate,No,4583,0,84,360,1,Rural,N\\r\\nLP001491,Male,Yes,2,Graduate,Yes,3316,3500,88,360,1,Urban,Y\\r\\nLP001492,Male,No,0,Graduate,No,14999,0,242,360,0,Semiurban,N\\r\\nLP001493,Male,Yes,2,Not Graduate,No,4200,1430,129,360,1,Rural,N\\r\\nLP001497,Male,Yes,2,Graduate,No,5042,2083,185,360,1,Rural,N\\r\\nLP001498,Male,No,0,Graduate,No,5417,0,168,360,1,Urban,Y\\r\\nLP001504,Male,No,0,Graduate,Yes,6950,0,175,180,1,Semiurban,Y\\r\\nLP001507,Male,Yes,0,Graduate,No,2698,2034,122,360,1,Semiurban,Y\\r\\nLP001508,Male,Yes,2,Graduate,No,11757,0,187,180,1,Urban,Y\\r\\nLP001514,Female,Yes,0,Graduate,No,2330,4486,100,360,1,Semiurban,Y\\r\\nLP001516,Female,Yes,2,Graduate,No,14866,0,70,360,1,Urban,Y\\r\\nLP001518,Male,Yes,1,Graduate,No,1538,1425,30,360,1,Urban,Y\\r\\nLP001519,Female,No,0,Graduate,No,10000,1666,225,360,1,Rural,N\\r\\nLP001520,Male,Yes,0,Graduate,No,4860,830,125,360,1,Semiurban,Y\\r\\nLP001528,Male,No,0,Graduate,No,6277,0,118,360,0,Rural,N\\r\\nLP001529,Male,Yes,0,Graduate,Yes,2577,3750,152,360,1,Rural,Y\\r\\nLP001531,Male,No,0,Graduate,No,9166,0,244,360,1,Urban,N\\r\\nLP001532,Male,Yes,2,Not Graduate,No,2281,0,113,360,1,Rural,N\\r\\nLP001535,Male,No,0,Graduate,No,3254,0,50,360,1,Urban,Y\\r\\nLP001536,Male,Yes,3+,Graduate,No,39999,0,600,180,0,Semiurban,Y\\r\\nLP001541,Male,Yes,1,Graduate,No,6000,0,160,360,,Rural,Y\\r\\nLP001543,Male,Yes,1,Graduate,No,9538,0,187,360,1,Urban,Y\\r\\nLP001546,Male,No,0,Graduate,,2980,2083,120,360,1,Rural,Y\\r\\nLP001552,Male,Yes,0,Graduate,No,4583,5625,255,360,1,Semiurban,Y\\r\\nLP001560,Male,Yes,0,Not Graduate,No,1863,1041,98,360,1,Semiurban,Y\\r\\nLP001562,Male,Yes,0,Graduate,No,7933,0,275,360,1,Urban,N\\r\\nLP001565,Male,Yes,1,Graduate,No,3089,1280,121,360,0,Semiurban,N\\r\\nLP001570,Male,Yes,2,Graduate,No,4167,1447,158,360,1,Rural,Y\\r\\nLP001572,Male,Yes,0,Graduate,No,9323,0,75,180,1,Urban,Y\\r\\nLP001574,Male,Yes,0,Graduate,No,3707,3166,182,,1,Rural,Y\\r\\nLP001577,Female,Yes,0,Graduate,No,4583,0,112,360,1,Rural,N\\r\\nLP001578,Male,Yes,0,Graduate,No,2439,3333,129,360,1,Rural,Y\\r\\nLP001579,Male,No,0,Graduate,No,2237,0,63,480,0,Semiurban,N\\r\\nLP001580,Male,Yes,2,Graduate,No,8000,0,200,360,1,Semiurban,Y\\r\\nLP001581,Male,Yes,0,Not Graduate,,1820,1769,95,360,1,Rural,Y\\r\\nLP001585,,Yes,3+,Graduate,No,51763,0,700,300,1,Urban,Y\\r\\nLP001586,Male,Yes,3+,Not Graduate,No,3522,0,81,180,1,Rural,N\\r\\nLP001594,Male,Yes,0,Graduate,No,5708,5625,187,360,1,Semiurban,Y\\r\\nLP001603,Male,Yes,0,Not Graduate,Yes,4344,736,87,360,1,Semiurban,N\\r\\nLP001606,Male,Yes,0,Graduate,No,3497,1964,116,360,1,Rural,Y\\r\\nLP001608,Male,Yes,2,Graduate,No,2045,1619,101,360,1,Rural,Y\\r\\nLP001610,Male,Yes,3+,Graduate,No,5516,11300,495,360,0,Semiurban,N\\r\\nLP001616,Male,Yes,1,Graduate,No,3750,0,116,360,1,Semiurban,Y\\r\\nLP001630,Male,No,0,Not Graduate,No,2333,1451,102,480,0,Urban,N\\r\\nLP001633,Male,Yes,1,Graduate,No,6400,7250,180,360,0,Urban,N\\r\\nLP001634,Male,No,0,Graduate,No,1916,5063,67,360,,Rural,N\\r\\nLP001636,Male,Yes,0,Graduate,No,4600,0,73,180,1,Semiurban,Y\\r\\nLP001637,Male,Yes,1,Graduate,No,33846,0,260,360,1,Semiurban,N\\r\\nLP001639,Female,Yes,0,Graduate,No,3625,0,108,360,1,Semiurban,Y\\r\\nLP001640,Male,Yes,0,Graduate,Yes,39147,4750,120,360,1,Semiurban,Y\\r\\nLP001641,Male,Yes,1,Graduate,Yes,2178,0,66,300,0,Rural,N\\r\\nLP001643,Male,Yes,0,Graduate,No,2383,2138,58,360,,Rural,Y\\r\\nLP001644,,Yes,0,Graduate,Yes,674,5296,168,360,1,Rural,Y\\r\\nLP001647,Male,Yes,0,Graduate,No,9328,0,188,180,1,Rural,Y\\r\\nLP001653,Male,No,0,Not Graduate,No,4885,0,48,360,1,Rural,Y\\r\\nLP001656,Male,No,0,Graduate,No,12000,0,164,360,1,Semiurban,N\\r\\nLP001657,Male,Yes,0,Not Graduate,No,6033,0,160,360,1,Urban,N\\r\\nLP001658,Male,No,0,Graduate,No,3858,0,76,360,1,Semiurban,Y\\r\\nLP001664,Male,No,0,Graduate,No,4191,0,120,360,1,Rural,Y\\r\\nLP001665,Male,Yes,1,Graduate,No,3125,2583,170,360,1,Semiurban,N\\r\\nLP001666,Male,No,0,Graduate,No,8333,3750,187,360,1,Rural,Y\\r\\nLP001669,Female,No,0,Not Graduate,No,1907,2365,120,,1,Urban,Y\\r\\nLP001671,Female,Yes,0,Graduate,No,3416,2816,113,360,,Semiurban,Y\\r\\nLP001673,Male,No,0,Graduate,Yes,11000,0,83,360,1,Urban,N\\r\\nLP001674,Male,Yes,1,Not Graduate,No,2600,2500,90,360,1,Semiurban,Y\\r\\nLP001677,Male,No,2,Graduate,No,4923,0,166,360,0,Semiurban,Y\\r\\nLP001682,Male,Yes,3+,Not Graduate,No,3992,0,,180,1,Urban,N\\r\\nLP001688,Male,Yes,1,Not Graduate,No,3500,1083,135,360,1,Urban,Y\\r\\nLP001691,Male,Yes,2,Not Graduate,No,3917,0,124,360,1,Semiurban,Y\\r\\nLP001692,Female,No,0,Not Graduate,No,4408,0,120,360,1,Semiurban,Y\\r\\nLP001693,Female,No,0,Graduate,No,3244,0,80,360,1,Urban,Y\\r\\nLP001698,Male,No,0,Not Graduate,No,3975,2531,55,360,1,Rural,Y\\r\\nLP001699,Male,No,0,Graduate,No,2479,0,59,360,1,Urban,Y\\r\\nLP001702,Male,No,0,Graduate,No,3418,0,127,360,1,Semiurban,N\\r\\nLP001708,Female,No,0,Graduate,No,10000,0,214,360,1,Semiurban,N\\r\\nLP001711,Male,Yes,3+,Graduate,No,3430,1250,128,360,0,Semiurban,N\\r\\nLP001713,Male,Yes,1,Graduate,Yes,7787,0,240,360,1,Urban,Y\\r\\nLP001715,Male,Yes,3+,Not Graduate,Yes,5703,0,130,360,1,Rural,Y\\r\\nLP001716,Male,Yes,0,Graduate,No,3173,3021,137,360,1,Urban,Y\\r\\nLP001720,Male,Yes,3+,Not Graduate,No,3850,983,100,360,1,Semiurban,Y\\r\\nLP001722,Male,Yes,0,Graduate,No,150,1800,135,360,1,Rural,N\\r\\nLP001726,Male,Yes,0,Graduate,No,3727,1775,131,360,1,Semiurban,Y\\r\\nLP001732,Male,Yes,2,Graduate,,5000,0,72,360,0,Semiurban,N\\r\\nLP001734,Female,Yes,2,Graduate,No,4283,2383,127,360,,Semiurban,Y\\r\\nLP001736,Male,Yes,0,Graduate,No,2221,0,60,360,0,Urban,N\\r\\nLP001743,Male,Yes,2,Graduate,No,4009,1717,116,360,1,Semiurban,Y\\r\\nLP001744,Male,No,0,Graduate,No,2971,2791,144,360,1,Semiurban,Y\\r\\nLP001749,Male,Yes,0,Graduate,No,7578,1010,175,,1,Semiurban,Y\\r\\nLP001750,Male,Yes,0,Graduate,No,6250,0,128,360,1,Semiurban,Y\\r\\nLP001751,Male,Yes,0,Graduate,No,3250,0,170,360,1,Rural,N\\r\\nLP001754,Male,Yes,,Not Graduate,Yes,4735,0,138,360,1,Urban,N\\r\\nLP001758,Male,Yes,2,Graduate,No,6250,1695,210,360,1,Semiurban,Y\\r\\nLP001760,Male,,,Graduate,No,4758,0,158,480,1,Semiurban,Y\\r\\nLP001761,Male,No,0,Graduate,Yes,6400,0,200,360,1,Rural,Y\\r\\nLP001765,Male,Yes,1,Graduate,No,2491,2054,104,360,1,Semiurban,Y\\r\\nLP001768,Male,Yes,0,Graduate,,3716,0,42,180,1,Rural,Y\\r\\nLP001770,Male,No,0,Not Graduate,No,3189,2598,120,,1,Rural,Y\\r\\nLP001776,Female,No,0,Graduate,No,8333,0,280,360,1,Semiurban,Y\\r\\nLP001778,Male,Yes,1,Graduate,No,3155,1779,140,360,1,Semiurban,Y\\r\\nLP001784,Male,Yes,1,Graduate,No,5500,1260,170,360,1,Rural,Y\\r\\nLP001786,Male,Yes,0,Graduate,,5746,0,255,360,,Urban,N\\r\\nLP001788,Female,No,0,Graduate,Yes,3463,0,122,360,,Urban,Y\\r\\nLP001790,Female,No,1,Graduate,No,3812,0,112,360,1,Rural,Y\\r\\nLP001792,Male,Yes,1,Graduate,No,3315,0,96,360,1,Semiurban,Y\\r\\nLP001798,Male,Yes,2,Graduate,No,5819,5000,120,360,1,Rural,Y\\r\\nLP001800,Male,Yes,1,Not Graduate,No,2510,1983,140,180,1,Urban,N\\r\\nLP001806,Male,No,0,Graduate,No,2965,5701,155,60,1,Urban,Y\\r\\nLP001807,Male,Yes,2,Graduate,Yes,6250,1300,108,360,1,Rural,Y\\r\\nLP001811,Male,Yes,0,Not Graduate,No,3406,4417,123,360,1,Semiurban,Y\\r\\nLP001813,Male,No,0,Graduate,Yes,6050,4333,120,180,1,Urban,N\\r\\nLP001814,Male,Yes,2,Graduate,No,9703,0,112,360,1,Urban,Y\\r\\nLP001819,Male,Yes,1,Not Graduate,No,6608,0,137,180,1,Urban,Y\\r\\nLP001824,Male,Yes,1,Graduate,No,2882,1843,123,480,1,Semiurban,Y\\r\\nLP001825,Male,Yes,0,Graduate,No,1809,1868,90,360,1,Urban,Y\\r\\nLP001835,Male,Yes,0,Not Graduate,No,1668,3890,201,360,0,Semiurban,N\\r\\nLP001836,Female,No,2,Graduate,No,3427,0,138,360,1,Urban,N\\r\\nLP001841,Male,No,0,Not Graduate,Yes,2583,2167,104,360,1,Rural,Y\\r\\nLP001843,Male,Yes,1,Not Graduate,No,2661,7101,279,180,1,Semiurban,Y\\r\\nLP001844,Male,No,0,Graduate,Yes,16250,0,192,360,0,Urban,N\\r\\nLP001846,Female,No,3+,Graduate,No,3083,0,255,360,1,Rural,Y\\r\\nLP001849,Male,No,0,Not Graduate,No,6045,0,115,360,0,Rural,N\\r\\nLP001854,Male,Yes,3+,Graduate,No,5250,0,94,360,1,Urban,N\\r\\nLP001859,Male,Yes,0,Graduate,No,14683,2100,304,360,1,Rural,N\\r\\nLP001864,Male,Yes,3+,Not Graduate,No,4931,0,128,360,,Semiurban,N\\r\\nLP001865,Male,Yes,1,Graduate,No,6083,4250,330,360,,Urban,Y\\r\\nLP001868,Male,No,0,Graduate,No,2060,2209,134,360,1,Semiurban,Y\\r\\nLP001870,Female,No,1,Graduate,No,3481,0,155,36,1,Semiurban,N\\r\\nLP001871,Female,No,0,Graduate,No,7200,0,120,360,1,Rural,Y\\r\\nLP001872,Male,No,0,Graduate,Yes,5166,0,128,360,1,Semiurban,Y\\r\\nLP001875,Male,No,0,Graduate,No,4095,3447,151,360,1,Rural,Y\\r\\nLP001877,Male,Yes,2,Graduate,No,4708,1387,150,360,1,Semiurban,Y\\r\\nLP001882,Male,Yes,3+,Graduate,No,4333,1811,160,360,0,Urban,Y\\r\\nLP001883,Female,No,0,Graduate,,3418,0,135,360,1,Rural,N\\r\\nLP001884,Female,No,1,Graduate,No,2876,1560,90,360,1,Urban,Y\\r\\nLP001888,Female,No,0,Graduate,No,3237,0,30,360,1,Urban,Y\\r\\nLP001891,Male,Yes,0,Graduate,No,11146,0,136,360,1,Urban,Y\\r\\nLP001892,Male,No,0,Graduate,No,2833,1857,126,360,1,Rural,Y\\r\\nLP001894,Male,Yes,0,Graduate,No,2620,2223,150,360,1,Semiurban,Y\\r\\nLP001896,Male,Yes,2,Graduate,No,3900,0,90,360,1,Semiurban,Y\\r\\nLP001900,Male,Yes,1,Graduate,No,2750,1842,115,360,1,Semiurban,Y\\r\\nLP001903,Male,Yes,0,Graduate,No,3993,3274,207,360,1,Semiurban,Y\\r\\nLP001904,Male,Yes,0,Graduate,No,3103,1300,80,360,1,Urban,Y\\r\\nLP001907,Male,Yes,0,Graduate,No,14583,0,436,360,1,Semiurban,Y\\r\\nLP001908,Female,Yes,0,Not Graduate,No,4100,0,124,360,,Rural,Y\\r\\nLP001910,Male,No,1,Not Graduate,Yes,4053,2426,158,360,0,Urban,N\\r\\nLP001914,Male,Yes,0,Graduate,No,3927,800,112,360,1,Semiurban,Y\\r\\nLP001915,Male,Yes,2,Graduate,No,2301,985.7999878,78,180,1,Urban,Y\\r\\nLP001917,Female,No,0,Graduate,No,1811,1666,54,360,1,Urban,Y\\r\\nLP001922,Male,Yes,0,Graduate,No,20667,0,,360,1,Rural,N\\r\\nLP001924,Male,No,0,Graduate,No,3158,3053,89,360,1,Rural,Y\\r\\nLP001925,Female,No,0,Graduate,Yes,2600,1717,99,300,1,Semiurban,N\\r\\nLP001926,Male,Yes,0,Graduate,No,3704,2000,120,360,1,Rural,Y\\r\\nLP001931,Female,No,0,Graduate,No,4124,0,115,360,1,Semiurban,Y\\r\\nLP001935,Male,No,0,Graduate,No,9508,0,187,360,1,Rural,Y\\r\\nLP001936,Male,Yes,0,Graduate,No,3075,2416,139,360,1,Rural,Y\\r\\nLP001938,Male,Yes,2,Graduate,No,4400,0,127,360,0,Semiurban,N\\r\\nLP001940,Male,Yes,2,Graduate,No,3153,1560,134,360,1,Urban,Y\\r\\nLP001945,Female,No,,Graduate,No,5417,0,143,480,0,Urban,N\\r\\nLP001947,Male,Yes,0,Graduate,No,2383,3334,172,360,1,Semiurban,Y\\r\\nLP001949,Male,Yes,3+,Graduate,,4416,1250,110,360,1,Urban,Y\\r\\nLP001953,Male,Yes,1,Graduate,No,6875,0,200,360,1,Semiurban,Y\\r\\nLP001954,Female,Yes,1,Graduate,No,4666,0,135,360,1,Urban,Y\\r\\nLP001955,Female,No,0,Graduate,No,5000,2541,151,480,1,Rural,N\\r\\nLP001963,Male,Yes,1,Graduate,No,2014,2925,113,360,1,Urban,N\\r\\nLP001964,Male,Yes,0,Not Graduate,No,1800,2934,93,360,0,Urban,N\\r\\nLP001972,Male,Yes,,Not Graduate,No,2875,1750,105,360,1,Semiurban,Y\\r\\nLP001974,Female,No,0,Graduate,No,5000,0,132,360,1,Rural,Y\\r\\nLP001977,Male,Yes,1,Graduate,No,1625,1803,96,360,1,Urban,Y\\r\\nLP001978,Male,No,0,Graduate,No,4000,2500,140,360,1,Rural,Y\\r\\nLP001990,Male,No,0,Not Graduate,No,2000,0,,360,1,Urban,N\\r\\nLP001993,Female,No,0,Graduate,No,3762,1666,135,360,1,Rural,Y\\r\\nLP001994,Female,No,0,Graduate,No,2400,1863,104,360,0,Urban,N\\r\\nLP001996,Male,No,0,Graduate,No,20233,0,480,360,1,Rural,N\\r\\nLP001998,Male,Yes,2,Not Graduate,No,7667,0,185,360,,Rural,Y\\r\\nLP002002,Female,No,0,Graduate,No,2917,0,84,360,1,Semiurban,Y\\r\\nLP002004,Male,No,0,Not Graduate,No,2927,2405,111,360,1,Semiurban,Y\\r\\nLP002006,Female,No,0,Graduate,No,2507,0,56,360,1,Rural,Y\\r\\nLP002008,Male,Yes,2,Graduate,Yes,5746,0,144,84,,Rural,Y\\r\\nLP002024,,Yes,0,Graduate,No,2473,1843,159,360,1,Rural,N\\r\\nLP002031,Male,Yes,1,Not Graduate,No,3399,1640,111,180,1,Urban,Y\\r\\nLP002035,Male,Yes,2,Graduate,No,3717,0,120,360,1,Semiurban,Y\\r\\nLP002036,Male,Yes,0,Graduate,No,2058,2134,88,360,,Urban,Y\\r\\nLP002043,Female,No,1,Graduate,No,3541,0,112,360,,Semiurban,Y\\r\\nLP002050,Male,Yes,1,Graduate,Yes,10000,0,155,360,1,Rural,N\\r\\nLP002051,Male,Yes,0,Graduate,No,2400,2167,115,360,1,Semiurban,Y\\r\\nLP002053,Male,Yes,3+,Graduate,No,4342,189,124,360,1,Semiurban,Y\\r\\nLP002054,Male,Yes,2,Not Graduate,No,3601,1590,,360,1,Rural,Y\\r\\nLP002055,Female,No,0,Graduate,No,3166,2985,132,360,,Rural,Y\\r\\nLP002065,Male,Yes,3+,Graduate,No,15000,0,300,360,1,Rural,Y\\r\\nLP002067,Male,Yes,1,Graduate,Yes,8666,4983,376,360,0,Rural,N\\r\\nLP002068,Male,No,0,Graduate,No,4917,0,130,360,0,Rural,Y\\r\\nLP002082,Male,Yes,0,Graduate,Yes,5818,2160,184,360,1,Semiurban,Y\\r\\nLP002086,Female,Yes,0,Graduate,No,4333,2451,110,360,1,Urban,N\\r\\nLP002087,Female,No,0,Graduate,No,2500,0,67,360,1,Urban,Y\\r\\nLP002097,Male,No,1,Graduate,No,4384,1793,117,360,1,Urban,Y\\r\\nLP002098,Male,No,0,Graduate,No,2935,0,98,360,1,Semiurban,Y\\r\\nLP002100,Male,No,,Graduate,No,2833,0,71,360,1,Urban,Y\\r\\nLP002101,Male,Yes,0,Graduate,,63337,0,490,180,1,Urban,Y\\r\\nLP002103,,Yes,1,Graduate,Yes,9833,1833,182,180,1,Urban,Y\\r\\nLP002106,Male,Yes,,Graduate,Yes,5503,4490,70,,1,Semiurban,Y\\r\\nLP002110,Male,Yes,1,Graduate,,5250,688,160,360,1,Rural,Y\\r\\nLP002112,Male,Yes,2,Graduate,Yes,2500,4600,176,360,1,Rural,Y\\r\\nLP002113,Female,No,3+,Not Graduate,No,1830,0,,360,0,Urban,N\\r\\nLP002114,Female,No,0,Graduate,No,4160,0,71,360,1,Semiurban,Y\\r\\nLP002115,Male,Yes,3+,Not Graduate,No,2647,1587,173,360,1,Rural,N\\r\\nLP002116,Female,No,0,Graduate,No,2378,0,46,360,1,Rural,N\\r\\nLP002119,Male,Yes,1,Not Graduate,No,4554,1229,158,360,1,Urban,Y\\r\\nLP002126,Male,Yes,3+,Not Graduate,No,3173,0,74,360,1,Semiurban,Y\\r\\nLP002128,Male,Yes,2,Graduate,,2583,2330,125,360,1,Rural,Y\\r\\nLP002129,Male,Yes,0,Graduate,No,2499,2458,160,360,1,Semiurban,Y\\r\\nLP002130,Male,Yes,,Not Graduate,No,3523,3230,152,360,0,Rural,N\\r\\nLP002131,Male,Yes,2,Not Graduate,No,3083,2168,126,360,1,Urban,Y\\r\\nLP002137,Male,Yes,0,Graduate,No,6333,4583,259,360,,Semiurban,Y\\r\\nLP002138,Male,Yes,0,Graduate,No,2625,6250,187,360,1,Rural,Y\\r\\nLP002139,Male,Yes,0,Graduate,No,9083,0,228,360,1,Semiurban,Y\\r\\nLP002140,Male,No,0,Graduate,No,8750,4167,308,360,1,Rural,N\\r\\nLP002141,Male,Yes,3+,Graduate,No,2666,2083,95,360,1,Rural,Y\\r\\nLP002142,Female,Yes,0,Graduate,Yes,5500,0,105,360,0,Rural,N\\r\\nLP002143,Female,Yes,0,Graduate,No,2423,505,130,360,1,Semiurban,Y\\r\\nLP002144,Female,No,,Graduate,No,3813,0,116,180,1,Urban,Y\\r\\nLP002149,Male,Yes,2,Graduate,No,8333,3167,165,360,1,Rural,Y\\r\\nLP002151,Male,Yes,1,Graduate,No,3875,0,67,360,1,Urban,N\\r\\nLP002158,Male,Yes,0,Not Graduate,No,3000,1666,100,480,0,Urban,N\\r\\nLP002160,Male,Yes,3+,Graduate,No,5167,3167,200,360,1,Semiurban,Y\\r\\nLP002161,Female,No,1,Graduate,No,4723,0,81,360,1,Semiurban,N\\r\\nLP002170,Male,Yes,2,Graduate,No,5000,3667,236,360,1,Semiurban,Y\\r\\nLP002175,Male,Yes,0,Graduate,No,4750,2333,130,360,1,Urban,Y\\r\\nLP002178,Male,Yes,0,Graduate,No,3013,3033,95,300,,Urban,Y\\r\\nLP002180,Male,No,0,Graduate,Yes,6822,0,141,360,1,Rural,Y\\r\\nLP002181,Male,No,0,Not Graduate,No,6216,0,133,360,1,Rural,N\\r\\nLP002187,Male,No,0,Graduate,No,2500,0,96,480,1,Semiurban,N\\r\\nLP002188,Male,No,0,Graduate,No,5124,0,124,,0,Rural,N\\r\\nLP002190,Male,Yes,1,Graduate,No,6325,0,175,360,1,Semiurban,Y\\r\\nLP002191,Male,Yes,0,Graduate,No,19730,5266,570,360,1,Rural,N\\r\\nLP002194,Female,No,0,Graduate,Yes,15759,0,55,360,1,Semiurban,Y\\r\\nLP002197,Male,Yes,2,Graduate,No,5185,0,155,360,1,Semiurban,Y\\r\\nLP002201,Male,Yes,2,Graduate,Yes,9323,7873,380,300,1,Rural,Y\\r\\nLP002205,Male,No,1,Graduate,No,3062,1987,111,180,0,Urban,N\\r\\nLP002209,Female,No,0,Graduate,,2764,1459,110,360,1,Urban,Y\\r\\nLP002211,Male,Yes,0,Graduate,No,4817,923,120,180,1,Urban,Y\\r\\nLP002219,Male,Yes,3+,Graduate,No,8750,4996,130,360,1,Rural,Y\\r\\nLP002223,Male,Yes,0,Graduate,No,4310,0,130,360,,Semiurban,Y\\r\\nLP002224,Male,No,0,Graduate,No,3069,0,71,480,1,Urban,N\\r\\nLP002225,Male,Yes,2,Graduate,No,5391,0,130,360,1,Urban,Y\\r\\nLP002226,Male,Yes,0,Graduate,,3333,2500,128,360,1,Semiurban,Y\\r\\nLP002229,Male,No,0,Graduate,No,5941,4232,296,360,1,Semiurban,Y\\r\\nLP002231,Female,No,0,Graduate,No,6000,0,156,360,1,Urban,Y\\r\\nLP002234,Male,No,0,Graduate,Yes,7167,0,128,360,1,Urban,Y\\r\\nLP002236,Male,Yes,2,Graduate,No,4566,0,100,360,1,Urban,N\\r\\nLP002237,Male,No,1,Graduate,,3667,0,113,180,1,Urban,Y\\r\\nLP002239,Male,No,0,Not Graduate,No,2346,1600,132,360,1,Semiurban,Y\\r\\nLP002243,Male,Yes,0,Not Graduate,No,3010,3136,,360,0,Urban,N\\r\\nLP002244,Male,Yes,0,Graduate,No,2333,2417,136,360,1,Urban,Y\\r\\nLP002250,Male,Yes,0,Graduate,No,5488,0,125,360,1,Rural,Y\\r\\nLP002255,Male,No,3+,Graduate,No,9167,0,185,360,1,Rural,Y\\r\\nLP002262,Male,Yes,3+,Graduate,No,9504,0,275,360,1,Rural,Y\\r\\nLP002263,Male,Yes,0,Graduate,No,2583,2115,120,360,,Urban,Y\\r\\nLP002265,Male,Yes,2,Not Graduate,No,1993,1625,113,180,1,Semiurban,Y\\r\\nLP002266,Male,Yes,2,Graduate,No,3100,1400,113,360,1,Urban,Y\\r\\nLP002272,Male,Yes,2,Graduate,No,3276,484,135,360,,Semiurban,Y\\r\\nLP002277,Female,No,0,Graduate,No,3180,0,71,360,0,Urban,N\\r\\nLP002281,Male,Yes,0,Graduate,No,3033,1459,95,360,1,Urban,Y\\r\\nLP002284,Male,No,0,Not Graduate,No,3902,1666,109,360,1,Rural,Y\\r\\nLP002287,Female,No,0,Graduate,No,1500,1800,103,360,0,Semiurban,N\\r\\nLP002288,Male,Yes,2,Not Graduate,No,2889,0,45,180,0,Urban,N\\r\\nLP002296,Male,No,0,Not Graduate,No,2755,0,65,300,1,Rural,N\\r\\nLP002297,Male,No,0,Graduate,No,2500,20000,103,360,1,Semiurban,Y\\r\\nLP002300,Female,No,0,Not Graduate,No,1963,0,53,360,1,Semiurban,Y\\r\\nLP002301,Female,No,0,Graduate,Yes,7441,0,194,360,1,Rural,N\\r\\nLP002305,Female,No,0,Graduate,No,4547,0,115,360,1,Semiurban,Y\\r\\nLP002308,Male,Yes,0,Not Graduate,No,2167,2400,115,360,1,Urban,Y\\r\\nLP002314,Female,No,0,Not Graduate,No,2213,0,66,360,1,Rural,Y\\r\\nLP002315,Male,Yes,1,Graduate,No,8300,0,152,300,0,Semiurban,N\\r\\nLP002317,Male,Yes,3+,Graduate,No,81000,0,360,360,0,Rural,N\\r\\nLP002318,Female,No,1,Not Graduate,Yes,3867,0,62,360,1,Semiurban,N\\r\\nLP002319,Male,Yes,0,Graduate,,6256,0,160,360,,Urban,Y\\r\\nLP002328,Male,Yes,0,Not Graduate,No,6096,0,218,360,0,Rural,N\\r\\nLP002332,Male,Yes,0,Not Graduate,No,2253,2033,110,360,1,Rural,Y\\r\\nLP002335,Female,Yes,0,Not Graduate,No,2149,3237,178,360,0,Semiurban,N\\r\\nLP002337,Female,No,0,Graduate,No,2995,0,60,360,1,Urban,Y\\r\\nLP002341,Female,No,1,Graduate,No,2600,0,160,360,1,Urban,N\\r\\nLP002342,Male,Yes,2,Graduate,Yes,1600,20000,239,360,1,Urban,N\\r\\nLP002345,Male,Yes,0,Graduate,No,1025,2773,112,360,1,Rural,Y\\r\\nLP002347,Male,Yes,0,Graduate,No,3246,1417,138,360,1,Semiurban,Y\\r\\nLP002348,Male,Yes,0,Graduate,No,5829,0,138,360,1,Rural,Y\\r\\nLP002357,Female,No,0,Not Graduate,No,2720,0,80,,0,Urban,N\\r\\nLP002361,Male,Yes,0,Graduate,No,1820,1719,100,360,1,Urban,Y\\r\\nLP002362,Male,Yes,1,Graduate,No,7250,1667,110,,0,Urban,N\\r\\nLP002364,Male,Yes,0,Graduate,No,14880,0,96,360,1,Semiurban,Y\\r\\nLP002366,Male,Yes,0,Graduate,No,2666,4300,121,360,1,Rural,Y\\r\\nLP002367,Female,No,1,Not Graduate,No,4606,0,81,360,1,Rural,N\\r\\nLP002368,Male,Yes,2,Graduate,No,5935,0,133,360,1,Semiurban,Y\\r\\nLP002369,Male,Yes,0,Graduate,No,2920,16.12000084,87,360,1,Rural,Y\\r\\nLP002370,Male,No,0,Not Graduate,No,2717,0,60,180,1,Urban,Y\\r\\nLP002377,Female,No,1,Graduate,Yes,8624,0,150,360,1,Semiurban,Y\\r\\nLP002379,Male,No,0,Graduate,No,6500,0,105,360,0,Rural,N\\r\\nLP002386,Male,No,0,Graduate,,12876,0,405,360,1,Semiurban,Y\\r\\nLP002387,Male,Yes,0,Graduate,No,2425,2340,143,360,1,Semiurban,Y\\r\\nLP002390,Male,No,0,Graduate,No,3750,0,100,360,1,Urban,Y\\r\\nLP002393,Female,,,Graduate,No,10047,0,,240,1,Semiurban,Y\\r\\nLP002398,Male,No,0,Graduate,No,1926,1851,50,360,1,Semiurban,Y\\r\\nLP002401,Male,Yes,0,Graduate,No,2213,1125,,360,1,Urban,Y\\r\\nLP002403,Male,No,0,Graduate,Yes,10416,0,187,360,0,Urban,N\\r\\nLP002407,Female,Yes,0,Not Graduate,Yes,7142,0,138,360,1,Rural,Y\\r\\nLP002408,Male,No,0,Graduate,No,3660,5064,187,360,1,Semiurban,Y\\r\\nLP002409,Male,Yes,0,Graduate,No,7901,1833,180,360,1,Rural,Y\\r\\nLP002418,Male,No,3+,Not Graduate,No,4707,1993,148,360,1,Semiurban,Y\\r\\nLP002422,Male,No,1,Graduate,No,37719,0,152,360,1,Semiurban,Y\\r\\nLP002424,Male,Yes,0,Graduate,No,7333,8333,175,300,,Rural,Y\\r\\nLP002429,Male,Yes,1,Graduate,Yes,3466,1210,130,360,1,Rural,Y\\r\\nLP002434,Male,Yes,2,Not Graduate,No,4652,0,110,360,1,Rural,Y\\r\\nLP002435,Male,Yes,0,Graduate,,3539,1376,55,360,1,Rural,N\\r\\nLP002443,Male,Yes,2,Graduate,No,3340,1710,150,360,0,Rural,N\\r\\nLP002444,Male,No,1,Not Graduate,Yes,2769,1542,190,360,,Semiurban,N\\r\\nLP002446,Male,Yes,2,Not Graduate,No,2309,1255,125,360,0,Rural,N\\r\\nLP002447,Male,Yes,2,Not Graduate,No,1958,1456,60,300,,Urban,Y\\r\\nLP002448,Male,Yes,0,Graduate,No,3948,1733,149,360,0,Rural,N\\r\\nLP002449,Male,Yes,0,Graduate,No,2483,2466,90,180,0,Rural,Y\\r\\nLP002453,Male,No,0,Graduate,Yes,7085,0,84,360,1,Semiurban,Y\\r\\nLP002455,Male,Yes,2,Graduate,No,3859,0,96,360,1,Semiurban,Y\\r\\nLP002459,Male,Yes,0,Graduate,No,4301,0,118,360,1,Urban,Y\\r\\nLP002467,Male,Yes,0,Graduate,No,3708,2569,173,360,1,Urban,N\\r\\nLP002472,Male,No,2,Graduate,No,4354,0,136,360,1,Rural,Y\\r\\nLP002473,Male,Yes,0,Graduate,No,8334,0,160,360,1,Semiurban,N\\r\\nLP002478,,Yes,0,Graduate,Yes,2083,4083,160,360,,Semiurban,Y\\r\\nLP002484,Male,Yes,3+,Graduate,No,7740,0,128,180,1,Urban,Y\\r\\nLP002487,Male,Yes,0,Graduate,No,3015,2188,153,360,1,Rural,Y\\r\\nLP002489,Female,No,1,Not Graduate,,5191,0,132,360,1,Semiurban,Y\\r\\nLP002493,Male,No,0,Graduate,No,4166,0,98,360,0,Semiurban,N\\r\\nLP002494,Male,No,0,Graduate,No,6000,0,140,360,1,Rural,Y\\r\\nLP002500,Male,Yes,3+,Not Graduate,No,2947,1664,70,180,0,Urban,N\\r\\nLP002501,,Yes,0,Graduate,No,16692,0,110,360,1,Semiurban,Y\\r\\nLP002502,Female,Yes,2,Not Graduate,,210,2917,98,360,1,Semiurban,Y\\r\\nLP002505,Male,Yes,0,Graduate,No,4333,2451,110,360,1,Urban,N\\r\\nLP002515,Male,Yes,1,Graduate,Yes,3450,2079,162,360,1,Semiurban,Y\\r\\nLP002517,Male,Yes,1,Not Graduate,No,2653,1500,113,180,0,Rural,N\\r\\nLP002519,Male,Yes,3+,Graduate,No,4691,0,100,360,1,Semiurban,Y\\r\\nLP002522,Female,No,0,Graduate,Yes,2500,0,93,360,,Urban,Y\\r\\nLP002524,Male,No,2,Graduate,No,5532,4648,162,360,1,Rural,Y\\r\\nLP002527,Male,Yes,2,Graduate,Yes,16525,1014,150,360,1,Rural,Y\\r\\nLP002529,Male,Yes,2,Graduate,No,6700,1750,230,300,1,Semiurban,Y\\r\\nLP002530,,Yes,2,Graduate,No,2873,1872,132,360,0,Semiurban,N\\r\\nLP002531,Male,Yes,1,Graduate,Yes,16667,2250,86,360,1,Semiurban,Y\\r\\nLP002533,Male,Yes,2,Graduate,No,2947,1603,,360,1,Urban,N\\r\\nLP002534,Female,No,0,Not Graduate,No,4350,0,154,360,1,Rural,Y\\r\\nLP002536,Male,Yes,3+,Not Graduate,No,3095,0,113,360,1,Rural,Y\\r\\nLP002537,Male,Yes,0,Graduate,No,2083,3150,128,360,1,Semiurban,Y\\r\\nLP002541,Male,Yes,0,Graduate,No,10833,0,234,360,1,Semiurban,Y\\r\\nLP002543,Male,Yes,2,Graduate,No,8333,0,246,360,1,Semiurban,Y\\r\\nLP002544,Male,Yes,1,Not Graduate,No,1958,2436,131,360,1,Rural,Y\\r\\nLP002545,Male,No,2,Graduate,No,3547,0,80,360,0,Rural,N\\r\\nLP002547,Male,Yes,1,Graduate,No,18333,0,500,360,1,Urban,N\\r\\nLP002555,Male,Yes,2,Graduate,Yes,4583,2083,160,360,1,Semiurban,Y\\r\\nLP002556,Male,No,0,Graduate,No,2435,0,75,360,1,Urban,N\\r\\nLP002560,Male,No,0,Not Graduate,No,2699,2785,96,360,,Semiurban,Y\\r\\nLP002562,Male,Yes,1,Not Graduate,No,5333,1131,186,360,,Urban,Y\\r\\nLP002571,Male,No,0,Not Graduate,No,3691,0,110,360,1,Rural,Y\\r\\nLP002582,Female,No,0,Not Graduate,Yes,17263,0,225,360,1,Semiurban,Y\\r\\nLP002585,Male,Yes,0,Graduate,No,3597,2157,119,360,0,Rural,N\\r\\nLP002586,Female,Yes,1,Graduate,No,3326,913,105,84,1,Semiurban,Y\\r\\nLP002587,Male,Yes,0,Not Graduate,No,2600,1700,107,360,1,Rural,Y\\r\\nLP002588,Male,Yes,0,Graduate,No,4625,2857,111,12,,Urban,Y\\r\\nLP002600,Male,Yes,1,Graduate,Yes,2895,0,95,360,1,Semiurban,Y\\r\\nLP002602,Male,No,0,Graduate,No,6283,4416,209,360,0,Rural,N\\r\\nLP002603,Female,No,0,Graduate,No,645,3683,113,480,1,Rural,Y\\r\\nLP002606,Female,No,0,Graduate,No,3159,0,100,360,1,Semiurban,Y\\r\\nLP002615,Male,Yes,2,Graduate,No,4865,5624,208,360,1,Semiurban,Y\\r\\nLP002618,Male,Yes,1,Not Graduate,No,4050,5302,138,360,,Rural,N\\r\\nLP002619,Male,Yes,0,Not Graduate,No,3814,1483,124,300,1,Semiurban,Y\\r\\nLP002622,Male,Yes,2,Graduate,No,3510,4416,243,360,1,Rural,Y\\r\\nLP002624,Male,Yes,0,Graduate,No,20833,6667,480,360,,Urban,Y\\r\\nLP002625,,No,0,Graduate,No,3583,0,96,360,1,Urban,N\\r\\nLP002626,Male,Yes,0,Graduate,Yes,2479,3013,188,360,1,Urban,Y\\r\\nLP002634,Female,No,1,Graduate,No,13262,0,40,360,1,Urban,Y\\r\\nLP002637,Male,No,0,Not Graduate,No,3598,1287,100,360,1,Rural,N\\r\\nLP002640,Male,Yes,1,Graduate,No,6065,2004,250,360,1,Semiurban,Y\\r\\nLP002643,Male,Yes,2,Graduate,No,3283,2035,148,360,1,Urban,Y\\r\\nLP002648,Male,Yes,0,Graduate,No,2130,6666,70,180,1,Semiurban,N\\r\\nLP002652,Male,No,0,Graduate,No,5815,3666,311,360,1,Rural,N\\r\\nLP002659,Male,Yes,3+,Graduate,No,3466,3428,150,360,1,Rural,Y\\r\\nLP002670,Female,Yes,2,Graduate,No,2031,1632,113,480,1,Semiurban,Y\\r\\nLP002682,Male,Yes,,Not Graduate,No,3074,1800,123,360,0,Semiurban,N\\r\\nLP002683,Male,No,0,Graduate,No,4683,1915,185,360,1,Semiurban,N\\r\\nLP002684,Female,No,0,Not Graduate,No,3400,0,95,360,1,Rural,N\\r\\nLP002689,Male,Yes,2,Not Graduate,No,2192,1742,45,360,1,Semiurban,Y\\r\\nLP002690,Male,No,0,Graduate,No,2500,0,55,360,1,Semiurban,Y\\r\\nLP002692,Male,Yes,3+,Graduate,Yes,5677,1424,100,360,1,Rural,Y\\r\\nLP002693,Male,Yes,2,Graduate,Yes,7948,7166,480,360,1,Rural,Y\\r\\nLP002697,Male,No,0,Graduate,No,4680,2087,,360,1,Semiurban,N\\r\\nLP002699,Male,Yes,2,Graduate,Yes,17500,0,400,360,1,Rural,Y\\r\\nLP002705,Male,Yes,0,Graduate,No,3775,0,110,360,1,Semiurban,Y\\r\\nLP002706,Male,Yes,1,Not Graduate,No,5285,1430,161,360,0,Semiurban,Y\\r\\nLP002714,Male,No,1,Not Graduate,No,2679,1302,94,360,1,Semiurban,Y\\r\\nLP002716,Male,No,0,Not Graduate,No,6783,0,130,360,1,Semiurban,Y\\r\\nLP002717,Male,Yes,0,Graduate,No,1025,5500,216,360,,Rural,Y\\r\\nLP002720,Male,Yes,3+,Graduate,No,4281,0,100,360,1,Urban,Y\\r\\nLP002723,Male,No,2,Graduate,No,3588,0,110,360,0,Rural,N\\r\\nLP002729,Male,No,1,Graduate,No,11250,0,196,360,,Semiurban,N\\r\\nLP002731,Female,No,0,Not Graduate,Yes,18165,0,125,360,1,Urban,Y\\r\\nLP002732,Male,No,0,Not Graduate,,2550,2042,126,360,1,Rural,Y\\r\\nLP002734,Male,Yes,0,Graduate,No,6133,3906,324,360,1,Urban,Y\\r\\nLP002738,Male,No,2,Graduate,No,3617,0,107,360,1,Semiurban,Y\\r\\nLP002739,Male,Yes,0,Not Graduate,No,2917,536,66,360,1,Rural,N\\r\\nLP002740,Male,Yes,3+,Graduate,No,6417,0,157,180,1,Rural,Y\\r\\nLP002741,Female,Yes,1,Graduate,No,4608,2845,140,180,1,Semiurban,Y\\r\\nLP002743,Female,No,0,Graduate,No,2138,0,99,360,0,Semiurban,N\\r\\nLP002753,Female,No,1,Graduate,,3652,0,95,360,1,Semiurban,Y\\r\\nLP002755,Male,Yes,1,Not Graduate,No,2239,2524,128,360,1,Urban,Y\\r\\nLP002757,Female,Yes,0,Not Graduate,No,3017,663,102,360,,Semiurban,Y\\r\\nLP002767,Male,Yes,0,Graduate,No,2768,1950,155,360,1,Rural,Y\\r\\nLP002768,Male,No,0,Not Graduate,No,3358,0,80,36,1,Semiurban,N\\r\\nLP002772,Male,No,0,Graduate,No,2526,1783,145,360,1,Rural,Y\\r\\nLP002776,Female,No,0,Graduate,No,5000,0,103,360,0,Semiurban,N\\r\\nLP002777,Male,Yes,0,Graduate,No,2785,2016,110,360,1,Rural,Y\\r\\nLP002778,Male,Yes,2,Graduate,Yes,6633,0,,360,0,Rural,N\\r\\nLP002784,Male,Yes,1,Not Graduate,No,2492,2375,,360,1,Rural,Y\\r\\nLP002785,Male,Yes,1,Graduate,No,3333,3250,158,360,1,Urban,Y\\r\\nLP002788,Male,Yes,0,Not Graduate,No,2454,2333,181,360,0,Urban,N\\r\\nLP002789,Male,Yes,0,Graduate,No,3593,4266,132,180,0,Rural,N\\r\\nLP002792,Male,Yes,1,Graduate,No,5468,1032,26,360,1,Semiurban,Y\\r\\nLP002794,Female,No,0,Graduate,No,2667,1625,84,360,,Urban,Y\\r\\nLP002795,Male,Yes,3+,Graduate,Yes,10139,0,260,360,1,Semiurban,Y\\r\\nLP002798,Male,Yes,0,Graduate,No,3887,2669,162,360,1,Semiurban,Y\\r\\nLP002804,Female,Yes,0,Graduate,No,4180,2306,182,360,1,Semiurban,Y\\r\\nLP002807,Male,Yes,2,Not Graduate,No,3675,242,108,360,1,Semiurban,Y\\r\\nLP002813,Female,Yes,1,Graduate,Yes,19484,0,600,360,1,Semiurban,Y\\r\\nLP002820,Male,Yes,0,Graduate,No,5923,2054,211,360,1,Rural,Y\\r\\nLP002821,Male,No,0,Not Graduate,Yes,5800,0,132,360,1,Semiurban,Y\\r\\nLP002832,Male,Yes,2,Graduate,No,8799,0,258,360,0,Urban,N\\r\\nLP002833,Male,Yes,0,Not Graduate,No,4467,0,120,360,,Rural,Y\\r\\nLP002836,Male,No,0,Graduate,No,3333,0,70,360,1,Urban,Y\\r\\nLP002837,Male,Yes,3+,Graduate,No,3400,2500,123,360,0,Rural,N\\r\\nLP002840,Female,No,0,Graduate,No,2378,0,9,360,1,Urban,N\\r\\nLP002841,Male,Yes,0,Graduate,No,3166,2064,104,360,0,Urban,N\\r\\nLP002842,Male,Yes,1,Graduate,No,3417,1750,186,360,1,Urban,Y\\r\\nLP002847,Male,Yes,,Graduate,No,5116,1451,165,360,0,Urban,N\\r\\nLP002855,Male,Yes,2,Graduate,No,16666,0,275,360,1,Urban,Y\\r\\nLP002862,Male,Yes,2,Not Graduate,No,6125,1625,187,480,1,Semiurban,N\\r\\nLP002863,Male,Yes,3+,Graduate,No,6406,0,150,360,1,Semiurban,N\\r\\nLP002868,Male,Yes,2,Graduate,No,3159,461,108,84,1,Urban,Y\\r\\nLP002872,,Yes,0,Graduate,No,3087,2210,136,360,0,Semiurban,N\\r\\nLP002874,Male,No,0,Graduate,No,3229,2739,110,360,1,Urban,Y\\r\\nLP002877,Male,Yes,1,Graduate,No,1782,2232,107,360,1,Rural,Y\\r\\nLP002888,Male,No,0,Graduate,,3182,2917,161,360,1,Urban,Y\\r\\nLP002892,Male,Yes,2,Graduate,No,6540,0,205,360,1,Semiurban,Y\\r\\nLP002893,Male,No,0,Graduate,No,1836,33837,90,360,1,Urban,N\\r\\nLP002894,Female,Yes,0,Graduate,No,3166,0,36,360,1,Semiurban,Y\\r\\nLP002898,Male,Yes,1,Graduate,No,1880,0,61,360,,Rural,N\\r\\nLP002911,Male,Yes,1,Graduate,No,2787,1917,146,360,0,Rural,N\\r\\nLP002912,Male,Yes,1,Graduate,No,4283,3000,172,84,1,Rural,N\\r\\nLP002916,Male,Yes,0,Graduate,No,2297,1522,104,360,1,Urban,Y\\r\\nLP002917,Female,No,0,Not Graduate,No,2165,0,70,360,1,Semiurban,Y\\r\\nLP002925,,No,0,Graduate,No,4750,0,94,360,1,Semiurban,Y\\r\\nLP002926,Male,Yes,2,Graduate,Yes,2726,0,106,360,0,Semiurban,N\\r\\nLP002928,Male,Yes,0,Graduate,No,3000,3416,56,180,1,Semiurban,Y\\r\\nLP002931,Male,Yes,2,Graduate,Yes,6000,0,205,240,1,Semiurban,N\\r\\nLP002933,,No,3+,Graduate,Yes,9357,0,292,360,1,Semiurban,Y\\r\\nLP002936,Male,Yes,0,Graduate,No,3859,3300,142,180,1,Rural,Y\\r\\nLP002938,Male,Yes,0,Graduate,Yes,16120,0,260,360,1,Urban,Y\\r\\nLP002940,Male,No,0,Not Graduate,No,3833,0,110,360,1,Rural,Y\\r\\nLP002941,Male,Yes,2,Not Graduate,Yes,6383,1000,187,360,1,Rural,N\\r\\nLP002943,Male,No,,Graduate,No,2987,0,88,360,0,Semiurban,N\\r\\nLP002945,Male,Yes,0,Graduate,Yes,9963,0,180,360,1,Rural,Y\\r\\nLP002948,Male,Yes,2,Graduate,No,5780,0,192,360,1,Urban,Y\\r\\nLP002949,Female,No,3+,Graduate,,416,41667,350,180,,Urban,N\\r\\nLP002950,Male,Yes,0,Not Graduate,,2894,2792,155,360,1,Rural,Y\\r\\nLP002953,Male,Yes,3+,Graduate,No,5703,0,128,360,1,Urban,Y\\r\\nLP002958,Male,No,0,Graduate,No,3676,4301,172,360,1,Rural,Y\\r\\nLP002959,Female,Yes,1,Graduate,No,12000,0,496,360,1,Semiurban,Y\\r\\nLP002960,Male,Yes,0,Not Graduate,No,2400,3800,,180,1,Urban,N\\r\\nLP002961,Male,Yes,1,Graduate,No,3400,2500,173,360,1,Semiurban,Y\\r\\nLP002964,Male,Yes,2,Not Graduate,No,3987,1411,157,360,1,Rural,Y\\r\\nLP002974,Male,Yes,0,Graduate,No,3232,1950,108,360,1,Rural,Y\\r\\nLP002978,Female,No,0,Graduate,No,2900,0,71,360,1,Rural,Y\\r\\nLP002979,Male,Yes,3+,Graduate,No,4106,0,40,180,1,Rural,Y\\r\\nLP002983,Male,Yes,1,Graduate,No,8072,240,253,360,1,Urban,Y\\r\\nLP002984,Male,Yes,2,Graduate,No,7583,0,187,360,1,Urban,Y\\r\\nLP002990,Female,No,0,Graduate,Yes,4583,0,133,360,0,Semiurban,N\\r\\n'}"
            ]
          },
          "metadata": {
            "tags": []
          },
          "execution_count": 37
        }
      ]
    },
    {
      "cell_type": "code",
      "metadata": {
        "id": "-Wznhb7fQ4aw",
        "colab_type": "code",
        "colab": {}
      },
      "source": [
        "import io\n",
        "data = io.BytesIO(uploaded['loan_pred.csv'])  "
      ],
      "execution_count": 0,
      "outputs": []
    },
    {
      "cell_type": "code",
      "metadata": {
        "id": "ABtzuePjRXAD",
        "colab_type": "code",
        "colab": {}
      },
      "source": [
        "my_data = pd.read_csv(data)"
      ],
      "execution_count": 0,
      "outputs": []
    },
    {
      "cell_type": "code",
      "metadata": {
        "id": "0rT3cIDcRdCM",
        "colab_type": "code",
        "outputId": "54754e65-63f1-4600-ec49-60201f3ce0ae",
        "colab": {
          "base_uri": "https://localhost:8080/",
          "height": 255
        }
      },
      "source": [
        "my_data.isnull().sum()"
      ],
      "execution_count": 0,
      "outputs": [
        {
          "output_type": "execute_result",
          "data": {
            "text/plain": [
              "Loan_ID               0\n",
              "Gender               13\n",
              "Married               3\n",
              "Dependents           15\n",
              "Education             0\n",
              "Self_Employed        32\n",
              "ApplicantIncome       0\n",
              "CoapplicantIncome     0\n",
              "LoanAmount           22\n",
              "Loan_Amount_Term     14\n",
              "Credit_History       50\n",
              "Property_Area         0\n",
              "Loan_Status           0\n",
              "dtype: int64"
            ]
          },
          "metadata": {
            "tags": []
          },
          "execution_count": 57
        }
      ]
    },
    {
      "cell_type": "code",
      "metadata": {
        "id": "fqvi3LcASp8-",
        "colab_type": "code",
        "outputId": "4fa0f8b2-579d-46e0-c5e8-a4468e773c9e",
        "colab": {
          "base_uri": "https://localhost:8080/",
          "height": 456
        }
      },
      "source": [
        "my_data"
      ],
      "execution_count": 0,
      "outputs": [
        {
          "output_type": "execute_result",
          "data": {
            "text/html": [
              "<div>\n",
              "<style scoped>\n",
              "    .dataframe tbody tr th:only-of-type {\n",
              "        vertical-align: middle;\n",
              "    }\n",
              "\n",
              "    .dataframe tbody tr th {\n",
              "        vertical-align: top;\n",
              "    }\n",
              "\n",
              "    .dataframe thead th {\n",
              "        text-align: right;\n",
              "    }\n",
              "</style>\n",
              "<table border=\"1\" class=\"dataframe\">\n",
              "  <thead>\n",
              "    <tr style=\"text-align: right;\">\n",
              "      <th></th>\n",
              "      <th>Loan_ID</th>\n",
              "      <th>Gender</th>\n",
              "      <th>Married</th>\n",
              "      <th>Dependents</th>\n",
              "      <th>Education</th>\n",
              "      <th>Self_Employed</th>\n",
              "      <th>ApplicantIncome</th>\n",
              "      <th>CoapplicantIncome</th>\n",
              "      <th>LoanAmount</th>\n",
              "      <th>Loan_Amount_Term</th>\n",
              "      <th>Credit_History</th>\n",
              "      <th>Property_Area</th>\n",
              "      <th>Loan_Status</th>\n",
              "    </tr>\n",
              "  </thead>\n",
              "  <tbody>\n",
              "    <tr>\n",
              "      <th>0</th>\n",
              "      <td>LP001002</td>\n",
              "      <td>Male</td>\n",
              "      <td>No</td>\n",
              "      <td>0</td>\n",
              "      <td>Graduate</td>\n",
              "      <td>No</td>\n",
              "      <td>5849</td>\n",
              "      <td>0.0</td>\n",
              "      <td>NaN</td>\n",
              "      <td>360.0</td>\n",
              "      <td>1.0</td>\n",
              "      <td>Urban</td>\n",
              "      <td>Y</td>\n",
              "    </tr>\n",
              "    <tr>\n",
              "      <th>1</th>\n",
              "      <td>LP001003</td>\n",
              "      <td>Male</td>\n",
              "      <td>Yes</td>\n",
              "      <td>1</td>\n",
              "      <td>Graduate</td>\n",
              "      <td>No</td>\n",
              "      <td>4583</td>\n",
              "      <td>1508.0</td>\n",
              "      <td>128.0</td>\n",
              "      <td>360.0</td>\n",
              "      <td>1.0</td>\n",
              "      <td>Rural</td>\n",
              "      <td>N</td>\n",
              "    </tr>\n",
              "    <tr>\n",
              "      <th>2</th>\n",
              "      <td>LP001005</td>\n",
              "      <td>Male</td>\n",
              "      <td>Yes</td>\n",
              "      <td>0</td>\n",
              "      <td>Graduate</td>\n",
              "      <td>Yes</td>\n",
              "      <td>3000</td>\n",
              "      <td>0.0</td>\n",
              "      <td>66.0</td>\n",
              "      <td>360.0</td>\n",
              "      <td>1.0</td>\n",
              "      <td>Urban</td>\n",
              "      <td>Y</td>\n",
              "    </tr>\n",
              "    <tr>\n",
              "      <th>3</th>\n",
              "      <td>LP001006</td>\n",
              "      <td>Male</td>\n",
              "      <td>Yes</td>\n",
              "      <td>0</td>\n",
              "      <td>Not Graduate</td>\n",
              "      <td>No</td>\n",
              "      <td>2583</td>\n",
              "      <td>2358.0</td>\n",
              "      <td>120.0</td>\n",
              "      <td>360.0</td>\n",
              "      <td>1.0</td>\n",
              "      <td>Urban</td>\n",
              "      <td>Y</td>\n",
              "    </tr>\n",
              "    <tr>\n",
              "      <th>4</th>\n",
              "      <td>LP001008</td>\n",
              "      <td>Male</td>\n",
              "      <td>No</td>\n",
              "      <td>0</td>\n",
              "      <td>Graduate</td>\n",
              "      <td>No</td>\n",
              "      <td>6000</td>\n",
              "      <td>0.0</td>\n",
              "      <td>141.0</td>\n",
              "      <td>360.0</td>\n",
              "      <td>1.0</td>\n",
              "      <td>Urban</td>\n",
              "      <td>Y</td>\n",
              "    </tr>\n",
              "    <tr>\n",
              "      <th>...</th>\n",
              "      <td>...</td>\n",
              "      <td>...</td>\n",
              "      <td>...</td>\n",
              "      <td>...</td>\n",
              "      <td>...</td>\n",
              "      <td>...</td>\n",
              "      <td>...</td>\n",
              "      <td>...</td>\n",
              "      <td>...</td>\n",
              "      <td>...</td>\n",
              "      <td>...</td>\n",
              "      <td>...</td>\n",
              "      <td>...</td>\n",
              "    </tr>\n",
              "    <tr>\n",
              "      <th>609</th>\n",
              "      <td>LP002978</td>\n",
              "      <td>Female</td>\n",
              "      <td>No</td>\n",
              "      <td>0</td>\n",
              "      <td>Graduate</td>\n",
              "      <td>No</td>\n",
              "      <td>2900</td>\n",
              "      <td>0.0</td>\n",
              "      <td>71.0</td>\n",
              "      <td>360.0</td>\n",
              "      <td>1.0</td>\n",
              "      <td>Rural</td>\n",
              "      <td>Y</td>\n",
              "    </tr>\n",
              "    <tr>\n",
              "      <th>610</th>\n",
              "      <td>LP002979</td>\n",
              "      <td>Male</td>\n",
              "      <td>Yes</td>\n",
              "      <td>3+</td>\n",
              "      <td>Graduate</td>\n",
              "      <td>No</td>\n",
              "      <td>4106</td>\n",
              "      <td>0.0</td>\n",
              "      <td>40.0</td>\n",
              "      <td>180.0</td>\n",
              "      <td>1.0</td>\n",
              "      <td>Rural</td>\n",
              "      <td>Y</td>\n",
              "    </tr>\n",
              "    <tr>\n",
              "      <th>611</th>\n",
              "      <td>LP002983</td>\n",
              "      <td>Male</td>\n",
              "      <td>Yes</td>\n",
              "      <td>1</td>\n",
              "      <td>Graduate</td>\n",
              "      <td>No</td>\n",
              "      <td>8072</td>\n",
              "      <td>240.0</td>\n",
              "      <td>253.0</td>\n",
              "      <td>360.0</td>\n",
              "      <td>1.0</td>\n",
              "      <td>Urban</td>\n",
              "      <td>Y</td>\n",
              "    </tr>\n",
              "    <tr>\n",
              "      <th>612</th>\n",
              "      <td>LP002984</td>\n",
              "      <td>Male</td>\n",
              "      <td>Yes</td>\n",
              "      <td>2</td>\n",
              "      <td>Graduate</td>\n",
              "      <td>No</td>\n",
              "      <td>7583</td>\n",
              "      <td>0.0</td>\n",
              "      <td>187.0</td>\n",
              "      <td>360.0</td>\n",
              "      <td>1.0</td>\n",
              "      <td>Urban</td>\n",
              "      <td>Y</td>\n",
              "    </tr>\n",
              "    <tr>\n",
              "      <th>613</th>\n",
              "      <td>LP002990</td>\n",
              "      <td>Female</td>\n",
              "      <td>No</td>\n",
              "      <td>0</td>\n",
              "      <td>Graduate</td>\n",
              "      <td>Yes</td>\n",
              "      <td>4583</td>\n",
              "      <td>0.0</td>\n",
              "      <td>133.0</td>\n",
              "      <td>360.0</td>\n",
              "      <td>0.0</td>\n",
              "      <td>Semiurban</td>\n",
              "      <td>N</td>\n",
              "    </tr>\n",
              "  </tbody>\n",
              "</table>\n",
              "<p>614 rows × 13 columns</p>\n",
              "</div>"
            ],
            "text/plain": [
              "      Loan_ID  Gender Married  ... Credit_History Property_Area Loan_Status\n",
              "0    LP001002    Male      No  ...            1.0         Urban           Y\n",
              "1    LP001003    Male     Yes  ...            1.0         Rural           N\n",
              "2    LP001005    Male     Yes  ...            1.0         Urban           Y\n",
              "3    LP001006    Male     Yes  ...            1.0         Urban           Y\n",
              "4    LP001008    Male      No  ...            1.0         Urban           Y\n",
              "..        ...     ...     ...  ...            ...           ...         ...\n",
              "609  LP002978  Female      No  ...            1.0         Rural           Y\n",
              "610  LP002979    Male     Yes  ...            1.0         Rural           Y\n",
              "611  LP002983    Male     Yes  ...            1.0         Urban           Y\n",
              "612  LP002984    Male     Yes  ...            1.0         Urban           Y\n",
              "613  LP002990  Female      No  ...            0.0     Semiurban           N\n",
              "\n",
              "[614 rows x 13 columns]"
            ]
          },
          "metadata": {
            "tags": []
          },
          "execution_count": 58
        }
      ]
    },
    {
      "cell_type": "code",
      "metadata": {
        "id": "h7781cpPYdO7",
        "colab_type": "code",
        "colab": {}
      },
      "source": [
        "my_data.drop('Credit_History', axis=1, inplace=True)"
      ],
      "execution_count": 0,
      "outputs": []
    },
    {
      "cell_type": "code",
      "metadata": {
        "id": "AdW1cRe1Y4tb",
        "colab_type": "code",
        "outputId": "41dfe5a0-eef1-4c73-dbd2-2f1d60cdf048",
        "colab": {
          "base_uri": "https://localhost:8080/",
          "height": 456
        }
      },
      "source": [
        "my_data"
      ],
      "execution_count": 0,
      "outputs": [
        {
          "output_type": "execute_result",
          "data": {
            "text/html": [
              "<div>\n",
              "<style scoped>\n",
              "    .dataframe tbody tr th:only-of-type {\n",
              "        vertical-align: middle;\n",
              "    }\n",
              "\n",
              "    .dataframe tbody tr th {\n",
              "        vertical-align: top;\n",
              "    }\n",
              "\n",
              "    .dataframe thead th {\n",
              "        text-align: right;\n",
              "    }\n",
              "</style>\n",
              "<table border=\"1\" class=\"dataframe\">\n",
              "  <thead>\n",
              "    <tr style=\"text-align: right;\">\n",
              "      <th></th>\n",
              "      <th>Loan_ID</th>\n",
              "      <th>Gender</th>\n",
              "      <th>Married</th>\n",
              "      <th>Dependents</th>\n",
              "      <th>Education</th>\n",
              "      <th>Self_Employed</th>\n",
              "      <th>ApplicantIncome</th>\n",
              "      <th>CoapplicantIncome</th>\n",
              "      <th>LoanAmount</th>\n",
              "      <th>Loan_Amount_Term</th>\n",
              "      <th>Property_Area</th>\n",
              "      <th>Loan_Status</th>\n",
              "    </tr>\n",
              "  </thead>\n",
              "  <tbody>\n",
              "    <tr>\n",
              "      <th>0</th>\n",
              "      <td>LP001002</td>\n",
              "      <td>Male</td>\n",
              "      <td>No</td>\n",
              "      <td>0</td>\n",
              "      <td>Graduate</td>\n",
              "      <td>No</td>\n",
              "      <td>5849</td>\n",
              "      <td>0.0</td>\n",
              "      <td>NaN</td>\n",
              "      <td>360.0</td>\n",
              "      <td>Urban</td>\n",
              "      <td>Y</td>\n",
              "    </tr>\n",
              "    <tr>\n",
              "      <th>1</th>\n",
              "      <td>LP001003</td>\n",
              "      <td>Male</td>\n",
              "      <td>Yes</td>\n",
              "      <td>1</td>\n",
              "      <td>Graduate</td>\n",
              "      <td>No</td>\n",
              "      <td>4583</td>\n",
              "      <td>1508.0</td>\n",
              "      <td>128.0</td>\n",
              "      <td>360.0</td>\n",
              "      <td>Rural</td>\n",
              "      <td>N</td>\n",
              "    </tr>\n",
              "    <tr>\n",
              "      <th>2</th>\n",
              "      <td>LP001005</td>\n",
              "      <td>Male</td>\n",
              "      <td>Yes</td>\n",
              "      <td>0</td>\n",
              "      <td>Graduate</td>\n",
              "      <td>Yes</td>\n",
              "      <td>3000</td>\n",
              "      <td>0.0</td>\n",
              "      <td>66.0</td>\n",
              "      <td>360.0</td>\n",
              "      <td>Urban</td>\n",
              "      <td>Y</td>\n",
              "    </tr>\n",
              "    <tr>\n",
              "      <th>3</th>\n",
              "      <td>LP001006</td>\n",
              "      <td>Male</td>\n",
              "      <td>Yes</td>\n",
              "      <td>0</td>\n",
              "      <td>Not Graduate</td>\n",
              "      <td>No</td>\n",
              "      <td>2583</td>\n",
              "      <td>2358.0</td>\n",
              "      <td>120.0</td>\n",
              "      <td>360.0</td>\n",
              "      <td>Urban</td>\n",
              "      <td>Y</td>\n",
              "    </tr>\n",
              "    <tr>\n",
              "      <th>4</th>\n",
              "      <td>LP001008</td>\n",
              "      <td>Male</td>\n",
              "      <td>No</td>\n",
              "      <td>0</td>\n",
              "      <td>Graduate</td>\n",
              "      <td>No</td>\n",
              "      <td>6000</td>\n",
              "      <td>0.0</td>\n",
              "      <td>141.0</td>\n",
              "      <td>360.0</td>\n",
              "      <td>Urban</td>\n",
              "      <td>Y</td>\n",
              "    </tr>\n",
              "    <tr>\n",
              "      <th>...</th>\n",
              "      <td>...</td>\n",
              "      <td>...</td>\n",
              "      <td>...</td>\n",
              "      <td>...</td>\n",
              "      <td>...</td>\n",
              "      <td>...</td>\n",
              "      <td>...</td>\n",
              "      <td>...</td>\n",
              "      <td>...</td>\n",
              "      <td>...</td>\n",
              "      <td>...</td>\n",
              "      <td>...</td>\n",
              "    </tr>\n",
              "    <tr>\n",
              "      <th>609</th>\n",
              "      <td>LP002978</td>\n",
              "      <td>Female</td>\n",
              "      <td>No</td>\n",
              "      <td>0</td>\n",
              "      <td>Graduate</td>\n",
              "      <td>No</td>\n",
              "      <td>2900</td>\n",
              "      <td>0.0</td>\n",
              "      <td>71.0</td>\n",
              "      <td>360.0</td>\n",
              "      <td>Rural</td>\n",
              "      <td>Y</td>\n",
              "    </tr>\n",
              "    <tr>\n",
              "      <th>610</th>\n",
              "      <td>LP002979</td>\n",
              "      <td>Male</td>\n",
              "      <td>Yes</td>\n",
              "      <td>3+</td>\n",
              "      <td>Graduate</td>\n",
              "      <td>No</td>\n",
              "      <td>4106</td>\n",
              "      <td>0.0</td>\n",
              "      <td>40.0</td>\n",
              "      <td>180.0</td>\n",
              "      <td>Rural</td>\n",
              "      <td>Y</td>\n",
              "    </tr>\n",
              "    <tr>\n",
              "      <th>611</th>\n",
              "      <td>LP002983</td>\n",
              "      <td>Male</td>\n",
              "      <td>Yes</td>\n",
              "      <td>1</td>\n",
              "      <td>Graduate</td>\n",
              "      <td>No</td>\n",
              "      <td>8072</td>\n",
              "      <td>240.0</td>\n",
              "      <td>253.0</td>\n",
              "      <td>360.0</td>\n",
              "      <td>Urban</td>\n",
              "      <td>Y</td>\n",
              "    </tr>\n",
              "    <tr>\n",
              "      <th>612</th>\n",
              "      <td>LP002984</td>\n",
              "      <td>Male</td>\n",
              "      <td>Yes</td>\n",
              "      <td>2</td>\n",
              "      <td>Graduate</td>\n",
              "      <td>No</td>\n",
              "      <td>7583</td>\n",
              "      <td>0.0</td>\n",
              "      <td>187.0</td>\n",
              "      <td>360.0</td>\n",
              "      <td>Urban</td>\n",
              "      <td>Y</td>\n",
              "    </tr>\n",
              "    <tr>\n",
              "      <th>613</th>\n",
              "      <td>LP002990</td>\n",
              "      <td>Female</td>\n",
              "      <td>No</td>\n",
              "      <td>0</td>\n",
              "      <td>Graduate</td>\n",
              "      <td>Yes</td>\n",
              "      <td>4583</td>\n",
              "      <td>0.0</td>\n",
              "      <td>133.0</td>\n",
              "      <td>360.0</td>\n",
              "      <td>Semiurban</td>\n",
              "      <td>N</td>\n",
              "    </tr>\n",
              "  </tbody>\n",
              "</table>\n",
              "<p>614 rows × 12 columns</p>\n",
              "</div>"
            ],
            "text/plain": [
              "      Loan_ID  Gender Married  ... Loan_Amount_Term Property_Area Loan_Status\n",
              "0    LP001002    Male      No  ...            360.0         Urban           Y\n",
              "1    LP001003    Male     Yes  ...            360.0         Rural           N\n",
              "2    LP001005    Male     Yes  ...            360.0         Urban           Y\n",
              "3    LP001006    Male     Yes  ...            360.0         Urban           Y\n",
              "4    LP001008    Male      No  ...            360.0         Urban           Y\n",
              "..        ...     ...     ...  ...              ...           ...         ...\n",
              "609  LP002978  Female      No  ...            360.0         Rural           Y\n",
              "610  LP002979    Male     Yes  ...            180.0         Rural           Y\n",
              "611  LP002983    Male     Yes  ...            360.0         Urban           Y\n",
              "612  LP002984    Male     Yes  ...            360.0         Urban           Y\n",
              "613  LP002990  Female      No  ...            360.0     Semiurban           N\n",
              "\n",
              "[614 rows x 12 columns]"
            ]
          },
          "metadata": {
            "tags": []
          },
          "execution_count": 62
        }
      ]
    },
    {
      "cell_type": "code",
      "metadata": {
        "id": "fmyoRUHSfN-9",
        "colab_type": "code",
        "colab": {}
      },
      "source": [
        "# to fill the missing value\n",
        "my_data['LoanAmount'].fillna(my_data['LoanAmount'].mean(), inplace=True)"
      ],
      "execution_count": 0,
      "outputs": []
    },
    {
      "cell_type": "code",
      "metadata": {
        "id": "NXfL9-W5fwQK",
        "colab_type": "code",
        "outputId": "fd737976-f9b3-481b-cbf2-1a105c49297c",
        "colab": {
          "base_uri": "https://localhost:8080/",
          "height": 238
        }
      },
      "source": [
        "my_data.isnull().sum()"
      ],
      "execution_count": 86,
      "outputs": [
        {
          "output_type": "execute_result",
          "data": {
            "text/plain": [
              "Loan_ID              0\n",
              "Gender               0\n",
              "Married              0\n",
              "Dependents           0\n",
              "Education            0\n",
              "Self_Employed        0\n",
              "ApplicantIncome      0\n",
              "CoapplicantIncome    0\n",
              "LoanAmount           0\n",
              "Loan_Amount_Term     0\n",
              "Property_Area        0\n",
              "Loan_Status          0\n",
              "dtype: int64"
            ]
          },
          "metadata": {
            "tags": []
          },
          "execution_count": 86
        }
      ]
    },
    {
      "cell_type": "code",
      "metadata": {
        "id": "EHGMRM4ygPJu",
        "colab_type": "code",
        "colab": {}
      },
      "source": [
        "my_data['Loan_Amount_Term'].fillna(my_data['Loan_Amount_Term'].mode()[0], inplace=True)"
      ],
      "execution_count": 0,
      "outputs": []
    },
    {
      "cell_type": "code",
      "metadata": {
        "id": "9heS6D7Rgpzw",
        "colab_type": "code",
        "outputId": "2439aeb1-a9bf-4139-a054-438e8619a380",
        "colab": {
          "base_uri": "https://localhost:8080/",
          "height": 68
        }
      },
      "source": [
        "my_data['Self_Employed'].value_counts()"
      ],
      "execution_count": 73,
      "outputs": [
        {
          "output_type": "execute_result",
          "data": {
            "text/plain": [
              "No     500\n",
              "Yes     82\n",
              "Name: Self_Employed, dtype: int64"
            ]
          },
          "metadata": {
            "tags": []
          },
          "execution_count": 73
        }
      ]
    },
    {
      "cell_type": "code",
      "metadata": {
        "id": "m8MxJ5jmh4N8",
        "colab_type": "code",
        "colab": {}
      },
      "source": [
        "my_data['Dependents'].fillna(method=\"ffill\", inplace=True)"
      ],
      "execution_count": 0,
      "outputs": []
    },
    {
      "cell_type": "code",
      "metadata": {
        "id": "Q4lDsYQL8Moh",
        "colab_type": "code",
        "colab": {}
      },
      "source": [
        "my_data[\"Self_Employed\"].fillna((\"No\"),inplace=True)"
      ],
      "execution_count": 0,
      "outputs": []
    },
    {
      "cell_type": "code",
      "metadata": {
        "id": "Yl6LZQjR8Ytt",
        "colab_type": "code",
        "colab": {
          "base_uri": "https://localhost:8080/",
          "height": 221
        },
        "outputId": "28fdb97e-b017-4572-d2a3-82d2c8a0362e"
      },
      "source": [
        "my_data[\"Dependents\"].str.rstrip('+')   #removing +"
      ],
      "execution_count": 79,
      "outputs": [
        {
          "output_type": "execute_result",
          "data": {
            "text/plain": [
              "0      0\n",
              "1      1\n",
              "2      0\n",
              "3      0\n",
              "4      0\n",
              "      ..\n",
              "609    0\n",
              "610    3\n",
              "611    1\n",
              "612    2\n",
              "613    0\n",
              "Name: Dependents, Length: 614, dtype: object"
            ]
          },
          "metadata": {
            "tags": []
          },
          "execution_count": 79
        }
      ]
    },
    {
      "cell_type": "code",
      "metadata": {
        "id": "Kxy_uo-U8vhQ",
        "colab_type": "code",
        "colab": {
          "base_uri": "https://localhost:8080/",
          "height": 68
        },
        "outputId": "cf5d596d-48ec-4c27-d534-ac07c3852e70"
      },
      "source": [
        "my_data['Gender'].value_counts()"
      ],
      "execution_count": 81,
      "outputs": [
        {
          "output_type": "execute_result",
          "data": {
            "text/plain": [
              "Male      489\n",
              "Female    112\n",
              "Name: Gender, dtype: int64"
            ]
          },
          "metadata": {
            "tags": []
          },
          "execution_count": 81
        }
      ]
    },
    {
      "cell_type": "code",
      "metadata": {
        "id": "1nu-s7829QXC",
        "colab_type": "code",
        "colab": {}
      },
      "source": [
        "my_data['Gender'].fillna(('Male'), inplace=True)"
      ],
      "execution_count": 0,
      "outputs": []
    },
    {
      "cell_type": "code",
      "metadata": {
        "id": "FpwWiXZ79tFd",
        "colab_type": "code",
        "colab": {
          "base_uri": "https://localhost:8080/",
          "height": 68
        },
        "outputId": "7824bde1-9507-4c9e-bbb1-51317143e1bc"
      },
      "source": [
        "my_data['Married'].value_counts()"
      ],
      "execution_count": 84,
      "outputs": [
        {
          "output_type": "execute_result",
          "data": {
            "text/plain": [
              "Yes    398\n",
              "No     213\n",
              "Name: Married, dtype: int64"
            ]
          },
          "metadata": {
            "tags": []
          },
          "execution_count": 84
        }
      ]
    },
    {
      "cell_type": "code",
      "metadata": {
        "id": "3oQuS5Nw90hZ",
        "colab_type": "code",
        "colab": {}
      },
      "source": [
        "my_data['Married'].fillna(('Yes'), inplace=True)"
      ],
      "execution_count": 0,
      "outputs": []
    },
    {
      "cell_type": "code",
      "metadata": {
        "id": "BmcwNzAy-ONU",
        "colab_type": "code",
        "colab": {}
      },
      "source": [
        "from sklearn.preprocessing import LabelEncoder\n"
      ],
      "execution_count": 0,
      "outputs": []
    },
    {
      "cell_type": "code",
      "metadata": {
        "id": "eVnrxPLK-W1p",
        "colab_type": "code",
        "colab": {}
      },
      "source": [
        "lec=LabelEncoder()"
      ],
      "execution_count": 0,
      "outputs": []
    },
    {
      "cell_type": "code",
      "metadata": {
        "id": "mMHjjEpS-aOs",
        "colab_type": "code",
        "colab": {
          "base_uri": "https://localhost:8080/",
          "height": 221
        },
        "outputId": "229d1f34-732e-498b-f97c-8f1ae956beb9"
      },
      "source": [
        "my_data['Gender']"
      ],
      "execution_count": 89,
      "outputs": [
        {
          "output_type": "execute_result",
          "data": {
            "text/plain": [
              "0        Male\n",
              "1        Male\n",
              "2        Male\n",
              "3        Male\n",
              "4        Male\n",
              "        ...  \n",
              "609    Female\n",
              "610      Male\n",
              "611      Male\n",
              "612      Male\n",
              "613    Female\n",
              "Name: Gender, Length: 614, dtype: object"
            ]
          },
          "metadata": {
            "tags": []
          },
          "execution_count": 89
        }
      ]
    },
    {
      "cell_type": "code",
      "metadata": {
        "id": "p1xooGP8-dqp",
        "colab_type": "code",
        "colab": {}
      },
      "source": [
        "my_data['Gender']=lec.fit_transform(my_data['Gender'])"
      ],
      "execution_count": 0,
      "outputs": []
    },
    {
      "cell_type": "code",
      "metadata": {
        "id": "ZpIrmGdY-le2",
        "colab_type": "code",
        "colab": {
          "base_uri": "https://localhost:8080/",
          "height": 456
        },
        "outputId": "223d6d28-88fa-43c9-c3e4-8aee358f3e21"
      },
      "source": [
        "my_data"
      ],
      "execution_count": 91,
      "outputs": [
        {
          "output_type": "execute_result",
          "data": {
            "text/html": [
              "<div>\n",
              "<style scoped>\n",
              "    .dataframe tbody tr th:only-of-type {\n",
              "        vertical-align: middle;\n",
              "    }\n",
              "\n",
              "    .dataframe tbody tr th {\n",
              "        vertical-align: top;\n",
              "    }\n",
              "\n",
              "    .dataframe thead th {\n",
              "        text-align: right;\n",
              "    }\n",
              "</style>\n",
              "<table border=\"1\" class=\"dataframe\">\n",
              "  <thead>\n",
              "    <tr style=\"text-align: right;\">\n",
              "      <th></th>\n",
              "      <th>Loan_ID</th>\n",
              "      <th>Gender</th>\n",
              "      <th>Married</th>\n",
              "      <th>Dependents</th>\n",
              "      <th>Education</th>\n",
              "      <th>Self_Employed</th>\n",
              "      <th>ApplicantIncome</th>\n",
              "      <th>CoapplicantIncome</th>\n",
              "      <th>LoanAmount</th>\n",
              "      <th>Loan_Amount_Term</th>\n",
              "      <th>Property_Area</th>\n",
              "      <th>Loan_Status</th>\n",
              "    </tr>\n",
              "  </thead>\n",
              "  <tbody>\n",
              "    <tr>\n",
              "      <th>0</th>\n",
              "      <td>LP001002</td>\n",
              "      <td>1</td>\n",
              "      <td>No</td>\n",
              "      <td>0</td>\n",
              "      <td>Graduate</td>\n",
              "      <td>No</td>\n",
              "      <td>5849</td>\n",
              "      <td>0.0</td>\n",
              "      <td>146.412162</td>\n",
              "      <td>360.0</td>\n",
              "      <td>Urban</td>\n",
              "      <td>Y</td>\n",
              "    </tr>\n",
              "    <tr>\n",
              "      <th>1</th>\n",
              "      <td>LP001003</td>\n",
              "      <td>1</td>\n",
              "      <td>Yes</td>\n",
              "      <td>1</td>\n",
              "      <td>Graduate</td>\n",
              "      <td>No</td>\n",
              "      <td>4583</td>\n",
              "      <td>1508.0</td>\n",
              "      <td>128.000000</td>\n",
              "      <td>360.0</td>\n",
              "      <td>Rural</td>\n",
              "      <td>N</td>\n",
              "    </tr>\n",
              "    <tr>\n",
              "      <th>2</th>\n",
              "      <td>LP001005</td>\n",
              "      <td>1</td>\n",
              "      <td>Yes</td>\n",
              "      <td>0</td>\n",
              "      <td>Graduate</td>\n",
              "      <td>Yes</td>\n",
              "      <td>3000</td>\n",
              "      <td>0.0</td>\n",
              "      <td>66.000000</td>\n",
              "      <td>360.0</td>\n",
              "      <td>Urban</td>\n",
              "      <td>Y</td>\n",
              "    </tr>\n",
              "    <tr>\n",
              "      <th>3</th>\n",
              "      <td>LP001006</td>\n",
              "      <td>1</td>\n",
              "      <td>Yes</td>\n",
              "      <td>0</td>\n",
              "      <td>Not Graduate</td>\n",
              "      <td>No</td>\n",
              "      <td>2583</td>\n",
              "      <td>2358.0</td>\n",
              "      <td>120.000000</td>\n",
              "      <td>360.0</td>\n",
              "      <td>Urban</td>\n",
              "      <td>Y</td>\n",
              "    </tr>\n",
              "    <tr>\n",
              "      <th>4</th>\n",
              "      <td>LP001008</td>\n",
              "      <td>1</td>\n",
              "      <td>No</td>\n",
              "      <td>0</td>\n",
              "      <td>Graduate</td>\n",
              "      <td>No</td>\n",
              "      <td>6000</td>\n",
              "      <td>0.0</td>\n",
              "      <td>141.000000</td>\n",
              "      <td>360.0</td>\n",
              "      <td>Urban</td>\n",
              "      <td>Y</td>\n",
              "    </tr>\n",
              "    <tr>\n",
              "      <th>...</th>\n",
              "      <td>...</td>\n",
              "      <td>...</td>\n",
              "      <td>...</td>\n",
              "      <td>...</td>\n",
              "      <td>...</td>\n",
              "      <td>...</td>\n",
              "      <td>...</td>\n",
              "      <td>...</td>\n",
              "      <td>...</td>\n",
              "      <td>...</td>\n",
              "      <td>...</td>\n",
              "      <td>...</td>\n",
              "    </tr>\n",
              "    <tr>\n",
              "      <th>609</th>\n",
              "      <td>LP002978</td>\n",
              "      <td>0</td>\n",
              "      <td>No</td>\n",
              "      <td>0</td>\n",
              "      <td>Graduate</td>\n",
              "      <td>No</td>\n",
              "      <td>2900</td>\n",
              "      <td>0.0</td>\n",
              "      <td>71.000000</td>\n",
              "      <td>360.0</td>\n",
              "      <td>Rural</td>\n",
              "      <td>Y</td>\n",
              "    </tr>\n",
              "    <tr>\n",
              "      <th>610</th>\n",
              "      <td>LP002979</td>\n",
              "      <td>1</td>\n",
              "      <td>Yes</td>\n",
              "      <td>3+</td>\n",
              "      <td>Graduate</td>\n",
              "      <td>No</td>\n",
              "      <td>4106</td>\n",
              "      <td>0.0</td>\n",
              "      <td>40.000000</td>\n",
              "      <td>180.0</td>\n",
              "      <td>Rural</td>\n",
              "      <td>Y</td>\n",
              "    </tr>\n",
              "    <tr>\n",
              "      <th>611</th>\n",
              "      <td>LP002983</td>\n",
              "      <td>1</td>\n",
              "      <td>Yes</td>\n",
              "      <td>1</td>\n",
              "      <td>Graduate</td>\n",
              "      <td>No</td>\n",
              "      <td>8072</td>\n",
              "      <td>240.0</td>\n",
              "      <td>253.000000</td>\n",
              "      <td>360.0</td>\n",
              "      <td>Urban</td>\n",
              "      <td>Y</td>\n",
              "    </tr>\n",
              "    <tr>\n",
              "      <th>612</th>\n",
              "      <td>LP002984</td>\n",
              "      <td>1</td>\n",
              "      <td>Yes</td>\n",
              "      <td>2</td>\n",
              "      <td>Graduate</td>\n",
              "      <td>No</td>\n",
              "      <td>7583</td>\n",
              "      <td>0.0</td>\n",
              "      <td>187.000000</td>\n",
              "      <td>360.0</td>\n",
              "      <td>Urban</td>\n",
              "      <td>Y</td>\n",
              "    </tr>\n",
              "    <tr>\n",
              "      <th>613</th>\n",
              "      <td>LP002990</td>\n",
              "      <td>0</td>\n",
              "      <td>No</td>\n",
              "      <td>0</td>\n",
              "      <td>Graduate</td>\n",
              "      <td>Yes</td>\n",
              "      <td>4583</td>\n",
              "      <td>0.0</td>\n",
              "      <td>133.000000</td>\n",
              "      <td>360.0</td>\n",
              "      <td>Semiurban</td>\n",
              "      <td>N</td>\n",
              "    </tr>\n",
              "  </tbody>\n",
              "</table>\n",
              "<p>614 rows × 12 columns</p>\n",
              "</div>"
            ],
            "text/plain": [
              "      Loan_ID  Gender Married  ... Loan_Amount_Term Property_Area Loan_Status\n",
              "0    LP001002       1      No  ...            360.0         Urban           Y\n",
              "1    LP001003       1     Yes  ...            360.0         Rural           N\n",
              "2    LP001005       1     Yes  ...            360.0         Urban           Y\n",
              "3    LP001006       1     Yes  ...            360.0         Urban           Y\n",
              "4    LP001008       1      No  ...            360.0         Urban           Y\n",
              "..        ...     ...     ...  ...              ...           ...         ...\n",
              "609  LP002978       0      No  ...            360.0         Rural           Y\n",
              "610  LP002979       1     Yes  ...            180.0         Rural           Y\n",
              "611  LP002983       1     Yes  ...            360.0         Urban           Y\n",
              "612  LP002984       1     Yes  ...            360.0         Urban           Y\n",
              "613  LP002990       0      No  ...            360.0     Semiurban           N\n",
              "\n",
              "[614 rows x 12 columns]"
            ]
          },
          "metadata": {
            "tags": []
          },
          "execution_count": 91
        }
      ]
    },
    {
      "cell_type": "code",
      "metadata": {
        "id": "OjQrl_XS-pA2",
        "colab_type": "code",
        "colab": {
          "base_uri": "https://localhost:8080/",
          "height": 757
        },
        "outputId": "a505d066-b96a-4eea-dfc2-978148a85d3c"
      },
      "source": [
        "my_data.head(20)"
      ],
      "execution_count": 92,
      "outputs": [
        {
          "output_type": "execute_result",
          "data": {
            "text/html": [
              "<div>\n",
              "<style scoped>\n",
              "    .dataframe tbody tr th:only-of-type {\n",
              "        vertical-align: middle;\n",
              "    }\n",
              "\n",
              "    .dataframe tbody tr th {\n",
              "        vertical-align: top;\n",
              "    }\n",
              "\n",
              "    .dataframe thead th {\n",
              "        text-align: right;\n",
              "    }\n",
              "</style>\n",
              "<table border=\"1\" class=\"dataframe\">\n",
              "  <thead>\n",
              "    <tr style=\"text-align: right;\">\n",
              "      <th></th>\n",
              "      <th>Loan_ID</th>\n",
              "      <th>Gender</th>\n",
              "      <th>Married</th>\n",
              "      <th>Dependents</th>\n",
              "      <th>Education</th>\n",
              "      <th>Self_Employed</th>\n",
              "      <th>ApplicantIncome</th>\n",
              "      <th>CoapplicantIncome</th>\n",
              "      <th>LoanAmount</th>\n",
              "      <th>Loan_Amount_Term</th>\n",
              "      <th>Property_Area</th>\n",
              "      <th>Loan_Status</th>\n",
              "    </tr>\n",
              "  </thead>\n",
              "  <tbody>\n",
              "    <tr>\n",
              "      <th>0</th>\n",
              "      <td>LP001002</td>\n",
              "      <td>1</td>\n",
              "      <td>No</td>\n",
              "      <td>0</td>\n",
              "      <td>Graduate</td>\n",
              "      <td>No</td>\n",
              "      <td>5849</td>\n",
              "      <td>0.0</td>\n",
              "      <td>146.412162</td>\n",
              "      <td>360.0</td>\n",
              "      <td>Urban</td>\n",
              "      <td>Y</td>\n",
              "    </tr>\n",
              "    <tr>\n",
              "      <th>1</th>\n",
              "      <td>LP001003</td>\n",
              "      <td>1</td>\n",
              "      <td>Yes</td>\n",
              "      <td>1</td>\n",
              "      <td>Graduate</td>\n",
              "      <td>No</td>\n",
              "      <td>4583</td>\n",
              "      <td>1508.0</td>\n",
              "      <td>128.000000</td>\n",
              "      <td>360.0</td>\n",
              "      <td>Rural</td>\n",
              "      <td>N</td>\n",
              "    </tr>\n",
              "    <tr>\n",
              "      <th>2</th>\n",
              "      <td>LP001005</td>\n",
              "      <td>1</td>\n",
              "      <td>Yes</td>\n",
              "      <td>0</td>\n",
              "      <td>Graduate</td>\n",
              "      <td>Yes</td>\n",
              "      <td>3000</td>\n",
              "      <td>0.0</td>\n",
              "      <td>66.000000</td>\n",
              "      <td>360.0</td>\n",
              "      <td>Urban</td>\n",
              "      <td>Y</td>\n",
              "    </tr>\n",
              "    <tr>\n",
              "      <th>3</th>\n",
              "      <td>LP001006</td>\n",
              "      <td>1</td>\n",
              "      <td>Yes</td>\n",
              "      <td>0</td>\n",
              "      <td>Not Graduate</td>\n",
              "      <td>No</td>\n",
              "      <td>2583</td>\n",
              "      <td>2358.0</td>\n",
              "      <td>120.000000</td>\n",
              "      <td>360.0</td>\n",
              "      <td>Urban</td>\n",
              "      <td>Y</td>\n",
              "    </tr>\n",
              "    <tr>\n",
              "      <th>4</th>\n",
              "      <td>LP001008</td>\n",
              "      <td>1</td>\n",
              "      <td>No</td>\n",
              "      <td>0</td>\n",
              "      <td>Graduate</td>\n",
              "      <td>No</td>\n",
              "      <td>6000</td>\n",
              "      <td>0.0</td>\n",
              "      <td>141.000000</td>\n",
              "      <td>360.0</td>\n",
              "      <td>Urban</td>\n",
              "      <td>Y</td>\n",
              "    </tr>\n",
              "    <tr>\n",
              "      <th>5</th>\n",
              "      <td>LP001011</td>\n",
              "      <td>1</td>\n",
              "      <td>Yes</td>\n",
              "      <td>2</td>\n",
              "      <td>Graduate</td>\n",
              "      <td>Yes</td>\n",
              "      <td>5417</td>\n",
              "      <td>4196.0</td>\n",
              "      <td>267.000000</td>\n",
              "      <td>360.0</td>\n",
              "      <td>Urban</td>\n",
              "      <td>Y</td>\n",
              "    </tr>\n",
              "    <tr>\n",
              "      <th>6</th>\n",
              "      <td>LP001013</td>\n",
              "      <td>1</td>\n",
              "      <td>Yes</td>\n",
              "      <td>0</td>\n",
              "      <td>Not Graduate</td>\n",
              "      <td>No</td>\n",
              "      <td>2333</td>\n",
              "      <td>1516.0</td>\n",
              "      <td>95.000000</td>\n",
              "      <td>360.0</td>\n",
              "      <td>Urban</td>\n",
              "      <td>Y</td>\n",
              "    </tr>\n",
              "    <tr>\n",
              "      <th>7</th>\n",
              "      <td>LP001014</td>\n",
              "      <td>1</td>\n",
              "      <td>Yes</td>\n",
              "      <td>3+</td>\n",
              "      <td>Graduate</td>\n",
              "      <td>No</td>\n",
              "      <td>3036</td>\n",
              "      <td>2504.0</td>\n",
              "      <td>158.000000</td>\n",
              "      <td>360.0</td>\n",
              "      <td>Semiurban</td>\n",
              "      <td>N</td>\n",
              "    </tr>\n",
              "    <tr>\n",
              "      <th>8</th>\n",
              "      <td>LP001018</td>\n",
              "      <td>1</td>\n",
              "      <td>Yes</td>\n",
              "      <td>2</td>\n",
              "      <td>Graduate</td>\n",
              "      <td>No</td>\n",
              "      <td>4006</td>\n",
              "      <td>1526.0</td>\n",
              "      <td>168.000000</td>\n",
              "      <td>360.0</td>\n",
              "      <td>Urban</td>\n",
              "      <td>Y</td>\n",
              "    </tr>\n",
              "    <tr>\n",
              "      <th>9</th>\n",
              "      <td>LP001020</td>\n",
              "      <td>1</td>\n",
              "      <td>Yes</td>\n",
              "      <td>1</td>\n",
              "      <td>Graduate</td>\n",
              "      <td>No</td>\n",
              "      <td>12841</td>\n",
              "      <td>10968.0</td>\n",
              "      <td>349.000000</td>\n",
              "      <td>360.0</td>\n",
              "      <td>Semiurban</td>\n",
              "      <td>N</td>\n",
              "    </tr>\n",
              "    <tr>\n",
              "      <th>10</th>\n",
              "      <td>LP001024</td>\n",
              "      <td>1</td>\n",
              "      <td>Yes</td>\n",
              "      <td>2</td>\n",
              "      <td>Graduate</td>\n",
              "      <td>No</td>\n",
              "      <td>3200</td>\n",
              "      <td>700.0</td>\n",
              "      <td>70.000000</td>\n",
              "      <td>360.0</td>\n",
              "      <td>Urban</td>\n",
              "      <td>Y</td>\n",
              "    </tr>\n",
              "    <tr>\n",
              "      <th>11</th>\n",
              "      <td>LP001027</td>\n",
              "      <td>1</td>\n",
              "      <td>Yes</td>\n",
              "      <td>2</td>\n",
              "      <td>Graduate</td>\n",
              "      <td>No</td>\n",
              "      <td>2500</td>\n",
              "      <td>1840.0</td>\n",
              "      <td>109.000000</td>\n",
              "      <td>360.0</td>\n",
              "      <td>Urban</td>\n",
              "      <td>Y</td>\n",
              "    </tr>\n",
              "    <tr>\n",
              "      <th>12</th>\n",
              "      <td>LP001028</td>\n",
              "      <td>1</td>\n",
              "      <td>Yes</td>\n",
              "      <td>2</td>\n",
              "      <td>Graduate</td>\n",
              "      <td>No</td>\n",
              "      <td>3073</td>\n",
              "      <td>8106.0</td>\n",
              "      <td>200.000000</td>\n",
              "      <td>360.0</td>\n",
              "      <td>Urban</td>\n",
              "      <td>Y</td>\n",
              "    </tr>\n",
              "    <tr>\n",
              "      <th>13</th>\n",
              "      <td>LP001029</td>\n",
              "      <td>1</td>\n",
              "      <td>No</td>\n",
              "      <td>0</td>\n",
              "      <td>Graduate</td>\n",
              "      <td>No</td>\n",
              "      <td>1853</td>\n",
              "      <td>2840.0</td>\n",
              "      <td>114.000000</td>\n",
              "      <td>360.0</td>\n",
              "      <td>Rural</td>\n",
              "      <td>N</td>\n",
              "    </tr>\n",
              "    <tr>\n",
              "      <th>14</th>\n",
              "      <td>LP001030</td>\n",
              "      <td>1</td>\n",
              "      <td>Yes</td>\n",
              "      <td>2</td>\n",
              "      <td>Graduate</td>\n",
              "      <td>No</td>\n",
              "      <td>1299</td>\n",
              "      <td>1086.0</td>\n",
              "      <td>17.000000</td>\n",
              "      <td>120.0</td>\n",
              "      <td>Urban</td>\n",
              "      <td>Y</td>\n",
              "    </tr>\n",
              "    <tr>\n",
              "      <th>15</th>\n",
              "      <td>LP001032</td>\n",
              "      <td>1</td>\n",
              "      <td>No</td>\n",
              "      <td>0</td>\n",
              "      <td>Graduate</td>\n",
              "      <td>No</td>\n",
              "      <td>4950</td>\n",
              "      <td>0.0</td>\n",
              "      <td>125.000000</td>\n",
              "      <td>360.0</td>\n",
              "      <td>Urban</td>\n",
              "      <td>Y</td>\n",
              "    </tr>\n",
              "    <tr>\n",
              "      <th>16</th>\n",
              "      <td>LP001034</td>\n",
              "      <td>1</td>\n",
              "      <td>No</td>\n",
              "      <td>1</td>\n",
              "      <td>Not Graduate</td>\n",
              "      <td>No</td>\n",
              "      <td>3596</td>\n",
              "      <td>0.0</td>\n",
              "      <td>100.000000</td>\n",
              "      <td>240.0</td>\n",
              "      <td>Urban</td>\n",
              "      <td>Y</td>\n",
              "    </tr>\n",
              "    <tr>\n",
              "      <th>17</th>\n",
              "      <td>LP001036</td>\n",
              "      <td>0</td>\n",
              "      <td>No</td>\n",
              "      <td>0</td>\n",
              "      <td>Graduate</td>\n",
              "      <td>No</td>\n",
              "      <td>3510</td>\n",
              "      <td>0.0</td>\n",
              "      <td>76.000000</td>\n",
              "      <td>360.0</td>\n",
              "      <td>Urban</td>\n",
              "      <td>N</td>\n",
              "    </tr>\n",
              "    <tr>\n",
              "      <th>18</th>\n",
              "      <td>LP001038</td>\n",
              "      <td>1</td>\n",
              "      <td>Yes</td>\n",
              "      <td>0</td>\n",
              "      <td>Not Graduate</td>\n",
              "      <td>No</td>\n",
              "      <td>4887</td>\n",
              "      <td>0.0</td>\n",
              "      <td>133.000000</td>\n",
              "      <td>360.0</td>\n",
              "      <td>Rural</td>\n",
              "      <td>N</td>\n",
              "    </tr>\n",
              "    <tr>\n",
              "      <th>19</th>\n",
              "      <td>LP001041</td>\n",
              "      <td>1</td>\n",
              "      <td>Yes</td>\n",
              "      <td>0</td>\n",
              "      <td>Graduate</td>\n",
              "      <td>No</td>\n",
              "      <td>2600</td>\n",
              "      <td>3500.0</td>\n",
              "      <td>115.000000</td>\n",
              "      <td>360.0</td>\n",
              "      <td>Urban</td>\n",
              "      <td>Y</td>\n",
              "    </tr>\n",
              "  </tbody>\n",
              "</table>\n",
              "</div>"
            ],
            "text/plain": [
              "     Loan_ID  Gender Married  ... Loan_Amount_Term Property_Area Loan_Status\n",
              "0   LP001002       1      No  ...            360.0         Urban           Y\n",
              "1   LP001003       1     Yes  ...            360.0         Rural           N\n",
              "2   LP001005       1     Yes  ...            360.0         Urban           Y\n",
              "3   LP001006       1     Yes  ...            360.0         Urban           Y\n",
              "4   LP001008       1      No  ...            360.0         Urban           Y\n",
              "5   LP001011       1     Yes  ...            360.0         Urban           Y\n",
              "6   LP001013       1     Yes  ...            360.0         Urban           Y\n",
              "7   LP001014       1     Yes  ...            360.0     Semiurban           N\n",
              "8   LP001018       1     Yes  ...            360.0         Urban           Y\n",
              "9   LP001020       1     Yes  ...            360.0     Semiurban           N\n",
              "10  LP001024       1     Yes  ...            360.0         Urban           Y\n",
              "11  LP001027       1     Yes  ...            360.0         Urban           Y\n",
              "12  LP001028       1     Yes  ...            360.0         Urban           Y\n",
              "13  LP001029       1      No  ...            360.0         Rural           N\n",
              "14  LP001030       1     Yes  ...            120.0         Urban           Y\n",
              "15  LP001032       1      No  ...            360.0         Urban           Y\n",
              "16  LP001034       1      No  ...            240.0         Urban           Y\n",
              "17  LP001036       0      No  ...            360.0         Urban           N\n",
              "18  LP001038       1     Yes  ...            360.0         Rural           N\n",
              "19  LP001041       1     Yes  ...            360.0         Urban           Y\n",
              "\n",
              "[20 rows x 12 columns]"
            ]
          },
          "metadata": {
            "tags": []
          },
          "execution_count": 92
        }
      ]
    },
    {
      "cell_type": "code",
      "metadata": {
        "id": "stn-ajxIAAxD",
        "colab_type": "code",
        "colab": {}
      },
      "source": [
        "NewEdu=pd.get_dummies(my_data['Education'])"
      ],
      "execution_count": 0,
      "outputs": []
    },
    {
      "cell_type": "code",
      "metadata": {
        "id": "NhF7FWlxAI5E",
        "colab_type": "code",
        "colab": {
          "base_uri": "https://localhost:8080/",
          "height": 419
        },
        "outputId": "25ed1789-cd59-4092-95dc-d38c08533bab"
      },
      "source": [
        "NewEdu"
      ],
      "execution_count": 94,
      "outputs": [
        {
          "output_type": "execute_result",
          "data": {
            "text/html": [
              "<div>\n",
              "<style scoped>\n",
              "    .dataframe tbody tr th:only-of-type {\n",
              "        vertical-align: middle;\n",
              "    }\n",
              "\n",
              "    .dataframe tbody tr th {\n",
              "        vertical-align: top;\n",
              "    }\n",
              "\n",
              "    .dataframe thead th {\n",
              "        text-align: right;\n",
              "    }\n",
              "</style>\n",
              "<table border=\"1\" class=\"dataframe\">\n",
              "  <thead>\n",
              "    <tr style=\"text-align: right;\">\n",
              "      <th></th>\n",
              "      <th>Graduate</th>\n",
              "      <th>Not Graduate</th>\n",
              "    </tr>\n",
              "  </thead>\n",
              "  <tbody>\n",
              "    <tr>\n",
              "      <th>0</th>\n",
              "      <td>1</td>\n",
              "      <td>0</td>\n",
              "    </tr>\n",
              "    <tr>\n",
              "      <th>1</th>\n",
              "      <td>1</td>\n",
              "      <td>0</td>\n",
              "    </tr>\n",
              "    <tr>\n",
              "      <th>2</th>\n",
              "      <td>1</td>\n",
              "      <td>0</td>\n",
              "    </tr>\n",
              "    <tr>\n",
              "      <th>3</th>\n",
              "      <td>0</td>\n",
              "      <td>1</td>\n",
              "    </tr>\n",
              "    <tr>\n",
              "      <th>4</th>\n",
              "      <td>1</td>\n",
              "      <td>0</td>\n",
              "    </tr>\n",
              "    <tr>\n",
              "      <th>...</th>\n",
              "      <td>...</td>\n",
              "      <td>...</td>\n",
              "    </tr>\n",
              "    <tr>\n",
              "      <th>609</th>\n",
              "      <td>1</td>\n",
              "      <td>0</td>\n",
              "    </tr>\n",
              "    <tr>\n",
              "      <th>610</th>\n",
              "      <td>1</td>\n",
              "      <td>0</td>\n",
              "    </tr>\n",
              "    <tr>\n",
              "      <th>611</th>\n",
              "      <td>1</td>\n",
              "      <td>0</td>\n",
              "    </tr>\n",
              "    <tr>\n",
              "      <th>612</th>\n",
              "      <td>1</td>\n",
              "      <td>0</td>\n",
              "    </tr>\n",
              "    <tr>\n",
              "      <th>613</th>\n",
              "      <td>1</td>\n",
              "      <td>0</td>\n",
              "    </tr>\n",
              "  </tbody>\n",
              "</table>\n",
              "<p>614 rows × 2 columns</p>\n",
              "</div>"
            ],
            "text/plain": [
              "     Graduate  Not Graduate\n",
              "0           1             0\n",
              "1           1             0\n",
              "2           1             0\n",
              "3           0             1\n",
              "4           1             0\n",
              "..        ...           ...\n",
              "609         1             0\n",
              "610         1             0\n",
              "611         1             0\n",
              "612         1             0\n",
              "613         1             0\n",
              "\n",
              "[614 rows x 2 columns]"
            ]
          },
          "metadata": {
            "tags": []
          },
          "execution_count": 94
        }
      ]
    },
    {
      "cell_type": "code",
      "metadata": {
        "id": "zjlSX0cLALsQ",
        "colab_type": "code",
        "colab": {}
      },
      "source": [
        "my_data=pd.concat([my_data,NewEdu],axis=1)"
      ],
      "execution_count": 0,
      "outputs": []
    },
    {
      "cell_type": "code",
      "metadata": {
        "id": "eAL4HloNAYtY",
        "colab_type": "code",
        "colab": {
          "base_uri": "https://localhost:8080/",
          "height": 258
        },
        "outputId": "7acf5550-9d11-4d2a-e8c8-caaf3ca234f1"
      },
      "source": [
        "my_data.head()"
      ],
      "execution_count": 96,
      "outputs": [
        {
          "output_type": "execute_result",
          "data": {
            "text/html": [
              "<div>\n",
              "<style scoped>\n",
              "    .dataframe tbody tr th:only-of-type {\n",
              "        vertical-align: middle;\n",
              "    }\n",
              "\n",
              "    .dataframe tbody tr th {\n",
              "        vertical-align: top;\n",
              "    }\n",
              "\n",
              "    .dataframe thead th {\n",
              "        text-align: right;\n",
              "    }\n",
              "</style>\n",
              "<table border=\"1\" class=\"dataframe\">\n",
              "  <thead>\n",
              "    <tr style=\"text-align: right;\">\n",
              "      <th></th>\n",
              "      <th>Loan_ID</th>\n",
              "      <th>Gender</th>\n",
              "      <th>Married</th>\n",
              "      <th>Dependents</th>\n",
              "      <th>Education</th>\n",
              "      <th>Self_Employed</th>\n",
              "      <th>ApplicantIncome</th>\n",
              "      <th>CoapplicantIncome</th>\n",
              "      <th>LoanAmount</th>\n",
              "      <th>Loan_Amount_Term</th>\n",
              "      <th>Property_Area</th>\n",
              "      <th>Loan_Status</th>\n",
              "      <th>Graduate</th>\n",
              "      <th>Not Graduate</th>\n",
              "    </tr>\n",
              "  </thead>\n",
              "  <tbody>\n",
              "    <tr>\n",
              "      <th>0</th>\n",
              "      <td>LP001002</td>\n",
              "      <td>1</td>\n",
              "      <td>No</td>\n",
              "      <td>0</td>\n",
              "      <td>Graduate</td>\n",
              "      <td>No</td>\n",
              "      <td>5849</td>\n",
              "      <td>0.0</td>\n",
              "      <td>146.412162</td>\n",
              "      <td>360.0</td>\n",
              "      <td>Urban</td>\n",
              "      <td>Y</td>\n",
              "      <td>1</td>\n",
              "      <td>0</td>\n",
              "    </tr>\n",
              "    <tr>\n",
              "      <th>1</th>\n",
              "      <td>LP001003</td>\n",
              "      <td>1</td>\n",
              "      <td>Yes</td>\n",
              "      <td>1</td>\n",
              "      <td>Graduate</td>\n",
              "      <td>No</td>\n",
              "      <td>4583</td>\n",
              "      <td>1508.0</td>\n",
              "      <td>128.000000</td>\n",
              "      <td>360.0</td>\n",
              "      <td>Rural</td>\n",
              "      <td>N</td>\n",
              "      <td>1</td>\n",
              "      <td>0</td>\n",
              "    </tr>\n",
              "    <tr>\n",
              "      <th>2</th>\n",
              "      <td>LP001005</td>\n",
              "      <td>1</td>\n",
              "      <td>Yes</td>\n",
              "      <td>0</td>\n",
              "      <td>Graduate</td>\n",
              "      <td>Yes</td>\n",
              "      <td>3000</td>\n",
              "      <td>0.0</td>\n",
              "      <td>66.000000</td>\n",
              "      <td>360.0</td>\n",
              "      <td>Urban</td>\n",
              "      <td>Y</td>\n",
              "      <td>1</td>\n",
              "      <td>0</td>\n",
              "    </tr>\n",
              "    <tr>\n",
              "      <th>3</th>\n",
              "      <td>LP001006</td>\n",
              "      <td>1</td>\n",
              "      <td>Yes</td>\n",
              "      <td>0</td>\n",
              "      <td>Not Graduate</td>\n",
              "      <td>No</td>\n",
              "      <td>2583</td>\n",
              "      <td>2358.0</td>\n",
              "      <td>120.000000</td>\n",
              "      <td>360.0</td>\n",
              "      <td>Urban</td>\n",
              "      <td>Y</td>\n",
              "      <td>0</td>\n",
              "      <td>1</td>\n",
              "    </tr>\n",
              "    <tr>\n",
              "      <th>4</th>\n",
              "      <td>LP001008</td>\n",
              "      <td>1</td>\n",
              "      <td>No</td>\n",
              "      <td>0</td>\n",
              "      <td>Graduate</td>\n",
              "      <td>No</td>\n",
              "      <td>6000</td>\n",
              "      <td>0.0</td>\n",
              "      <td>141.000000</td>\n",
              "      <td>360.0</td>\n",
              "      <td>Urban</td>\n",
              "      <td>Y</td>\n",
              "      <td>1</td>\n",
              "      <td>0</td>\n",
              "    </tr>\n",
              "  </tbody>\n",
              "</table>\n",
              "</div>"
            ],
            "text/plain": [
              "    Loan_ID  Gender Married  ... Loan_Status Graduate Not Graduate\n",
              "0  LP001002       1      No  ...           Y        1            0\n",
              "1  LP001003       1     Yes  ...           N        1            0\n",
              "2  LP001005       1     Yes  ...           Y        1            0\n",
              "3  LP001006       1     Yes  ...           Y        0            1\n",
              "4  LP001008       1      No  ...           Y        1            0\n",
              "\n",
              "[5 rows x 14 columns]"
            ]
          },
          "metadata": {
            "tags": []
          },
          "execution_count": 96
        }
      ]
    },
    {
      "cell_type": "code",
      "metadata": {
        "id": "RPZx9B7JAdPK",
        "colab_type": "code",
        "colab": {
          "base_uri": "https://localhost:8080/",
          "height": 473
        },
        "outputId": "6f4d96af-df6e-44e0-d37f-bac67be5d10a"
      },
      "source": [
        "my_data"
      ],
      "execution_count": 97,
      "outputs": [
        {
          "output_type": "execute_result",
          "data": {
            "text/html": [
              "<div>\n",
              "<style scoped>\n",
              "    .dataframe tbody tr th:only-of-type {\n",
              "        vertical-align: middle;\n",
              "    }\n",
              "\n",
              "    .dataframe tbody tr th {\n",
              "        vertical-align: top;\n",
              "    }\n",
              "\n",
              "    .dataframe thead th {\n",
              "        text-align: right;\n",
              "    }\n",
              "</style>\n",
              "<table border=\"1\" class=\"dataframe\">\n",
              "  <thead>\n",
              "    <tr style=\"text-align: right;\">\n",
              "      <th></th>\n",
              "      <th>Loan_ID</th>\n",
              "      <th>Gender</th>\n",
              "      <th>Married</th>\n",
              "      <th>Dependents</th>\n",
              "      <th>Education</th>\n",
              "      <th>Self_Employed</th>\n",
              "      <th>ApplicantIncome</th>\n",
              "      <th>CoapplicantIncome</th>\n",
              "      <th>LoanAmount</th>\n",
              "      <th>Loan_Amount_Term</th>\n",
              "      <th>Property_Area</th>\n",
              "      <th>Loan_Status</th>\n",
              "      <th>Graduate</th>\n",
              "      <th>Not Graduate</th>\n",
              "    </tr>\n",
              "  </thead>\n",
              "  <tbody>\n",
              "    <tr>\n",
              "      <th>0</th>\n",
              "      <td>LP001002</td>\n",
              "      <td>1</td>\n",
              "      <td>No</td>\n",
              "      <td>0</td>\n",
              "      <td>Graduate</td>\n",
              "      <td>No</td>\n",
              "      <td>5849</td>\n",
              "      <td>0.0</td>\n",
              "      <td>146.412162</td>\n",
              "      <td>360.0</td>\n",
              "      <td>Urban</td>\n",
              "      <td>Y</td>\n",
              "      <td>1</td>\n",
              "      <td>0</td>\n",
              "    </tr>\n",
              "    <tr>\n",
              "      <th>1</th>\n",
              "      <td>LP001003</td>\n",
              "      <td>1</td>\n",
              "      <td>Yes</td>\n",
              "      <td>1</td>\n",
              "      <td>Graduate</td>\n",
              "      <td>No</td>\n",
              "      <td>4583</td>\n",
              "      <td>1508.0</td>\n",
              "      <td>128.000000</td>\n",
              "      <td>360.0</td>\n",
              "      <td>Rural</td>\n",
              "      <td>N</td>\n",
              "      <td>1</td>\n",
              "      <td>0</td>\n",
              "    </tr>\n",
              "    <tr>\n",
              "      <th>2</th>\n",
              "      <td>LP001005</td>\n",
              "      <td>1</td>\n",
              "      <td>Yes</td>\n",
              "      <td>0</td>\n",
              "      <td>Graduate</td>\n",
              "      <td>Yes</td>\n",
              "      <td>3000</td>\n",
              "      <td>0.0</td>\n",
              "      <td>66.000000</td>\n",
              "      <td>360.0</td>\n",
              "      <td>Urban</td>\n",
              "      <td>Y</td>\n",
              "      <td>1</td>\n",
              "      <td>0</td>\n",
              "    </tr>\n",
              "    <tr>\n",
              "      <th>3</th>\n",
              "      <td>LP001006</td>\n",
              "      <td>1</td>\n",
              "      <td>Yes</td>\n",
              "      <td>0</td>\n",
              "      <td>Not Graduate</td>\n",
              "      <td>No</td>\n",
              "      <td>2583</td>\n",
              "      <td>2358.0</td>\n",
              "      <td>120.000000</td>\n",
              "      <td>360.0</td>\n",
              "      <td>Urban</td>\n",
              "      <td>Y</td>\n",
              "      <td>0</td>\n",
              "      <td>1</td>\n",
              "    </tr>\n",
              "    <tr>\n",
              "      <th>4</th>\n",
              "      <td>LP001008</td>\n",
              "      <td>1</td>\n",
              "      <td>No</td>\n",
              "      <td>0</td>\n",
              "      <td>Graduate</td>\n",
              "      <td>No</td>\n",
              "      <td>6000</td>\n",
              "      <td>0.0</td>\n",
              "      <td>141.000000</td>\n",
              "      <td>360.0</td>\n",
              "      <td>Urban</td>\n",
              "      <td>Y</td>\n",
              "      <td>1</td>\n",
              "      <td>0</td>\n",
              "    </tr>\n",
              "    <tr>\n",
              "      <th>...</th>\n",
              "      <td>...</td>\n",
              "      <td>...</td>\n",
              "      <td>...</td>\n",
              "      <td>...</td>\n",
              "      <td>...</td>\n",
              "      <td>...</td>\n",
              "      <td>...</td>\n",
              "      <td>...</td>\n",
              "      <td>...</td>\n",
              "      <td>...</td>\n",
              "      <td>...</td>\n",
              "      <td>...</td>\n",
              "      <td>...</td>\n",
              "      <td>...</td>\n",
              "    </tr>\n",
              "    <tr>\n",
              "      <th>609</th>\n",
              "      <td>LP002978</td>\n",
              "      <td>0</td>\n",
              "      <td>No</td>\n",
              "      <td>0</td>\n",
              "      <td>Graduate</td>\n",
              "      <td>No</td>\n",
              "      <td>2900</td>\n",
              "      <td>0.0</td>\n",
              "      <td>71.000000</td>\n",
              "      <td>360.0</td>\n",
              "      <td>Rural</td>\n",
              "      <td>Y</td>\n",
              "      <td>1</td>\n",
              "      <td>0</td>\n",
              "    </tr>\n",
              "    <tr>\n",
              "      <th>610</th>\n",
              "      <td>LP002979</td>\n",
              "      <td>1</td>\n",
              "      <td>Yes</td>\n",
              "      <td>3+</td>\n",
              "      <td>Graduate</td>\n",
              "      <td>No</td>\n",
              "      <td>4106</td>\n",
              "      <td>0.0</td>\n",
              "      <td>40.000000</td>\n",
              "      <td>180.0</td>\n",
              "      <td>Rural</td>\n",
              "      <td>Y</td>\n",
              "      <td>1</td>\n",
              "      <td>0</td>\n",
              "    </tr>\n",
              "    <tr>\n",
              "      <th>611</th>\n",
              "      <td>LP002983</td>\n",
              "      <td>1</td>\n",
              "      <td>Yes</td>\n",
              "      <td>1</td>\n",
              "      <td>Graduate</td>\n",
              "      <td>No</td>\n",
              "      <td>8072</td>\n",
              "      <td>240.0</td>\n",
              "      <td>253.000000</td>\n",
              "      <td>360.0</td>\n",
              "      <td>Urban</td>\n",
              "      <td>Y</td>\n",
              "      <td>1</td>\n",
              "      <td>0</td>\n",
              "    </tr>\n",
              "    <tr>\n",
              "      <th>612</th>\n",
              "      <td>LP002984</td>\n",
              "      <td>1</td>\n",
              "      <td>Yes</td>\n",
              "      <td>2</td>\n",
              "      <td>Graduate</td>\n",
              "      <td>No</td>\n",
              "      <td>7583</td>\n",
              "      <td>0.0</td>\n",
              "      <td>187.000000</td>\n",
              "      <td>360.0</td>\n",
              "      <td>Urban</td>\n",
              "      <td>Y</td>\n",
              "      <td>1</td>\n",
              "      <td>0</td>\n",
              "    </tr>\n",
              "    <tr>\n",
              "      <th>613</th>\n",
              "      <td>LP002990</td>\n",
              "      <td>0</td>\n",
              "      <td>No</td>\n",
              "      <td>0</td>\n",
              "      <td>Graduate</td>\n",
              "      <td>Yes</td>\n",
              "      <td>4583</td>\n",
              "      <td>0.0</td>\n",
              "      <td>133.000000</td>\n",
              "      <td>360.0</td>\n",
              "      <td>Semiurban</td>\n",
              "      <td>N</td>\n",
              "      <td>1</td>\n",
              "      <td>0</td>\n",
              "    </tr>\n",
              "  </tbody>\n",
              "</table>\n",
              "<p>614 rows × 14 columns</p>\n",
              "</div>"
            ],
            "text/plain": [
              "      Loan_ID  Gender Married  ... Loan_Status Graduate Not Graduate\n",
              "0    LP001002       1      No  ...           Y        1            0\n",
              "1    LP001003       1     Yes  ...           N        1            0\n",
              "2    LP001005       1     Yes  ...           Y        1            0\n",
              "3    LP001006       1     Yes  ...           Y        0            1\n",
              "4    LP001008       1      No  ...           Y        1            0\n",
              "..        ...     ...     ...  ...         ...      ...          ...\n",
              "609  LP002978       0      No  ...           Y        1            0\n",
              "610  LP002979       1     Yes  ...           Y        1            0\n",
              "611  LP002983       1     Yes  ...           Y        1            0\n",
              "612  LP002984       1     Yes  ...           Y        1            0\n",
              "613  LP002990       0      No  ...           N        1            0\n",
              "\n",
              "[614 rows x 14 columns]"
            ]
          },
          "metadata": {
            "tags": []
          },
          "execution_count": 97
        }
      ]
    },
    {
      "cell_type": "code",
      "metadata": {
        "id": "cWDl5L5rBAZa",
        "colab_type": "code",
        "colab": {}
      },
      "source": [
        "my_data.to_csv(\"my_new_data.csv\")"
      ],
      "execution_count": 0,
      "outputs": []
    },
    {
      "cell_type": "code",
      "metadata": {
        "id": "-7Cr6IzKBIZY",
        "colab_type": "code",
        "colab": {}
      },
      "source": [
        "from google.colab import files\n",
        "files.download(\"my_new_data.csv\")"
      ],
      "execution_count": 0,
      "outputs": []
    },
    {
      "cell_type": "code",
      "metadata": {
        "id": "Y4wqo6LKBgf2",
        "colab_type": "code",
        "colab": {}
      },
      "source": [
        ""
      ],
      "execution_count": 0,
      "outputs": []
    }
  ]
}